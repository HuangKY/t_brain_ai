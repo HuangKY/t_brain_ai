{
 "cells": [
  {
   "cell_type": "markdown",
   "metadata": {},
   "source": [
    "* 2018-12-19 @Huang: based on Italy's \"variables_derivation\""
   ]
  },
  {
   "cell_type": "code",
   "execution_count": 1,
   "metadata": {
    "ExecuteTime": {
     "end_time": "2018-12-20T12:15:20.670245Z",
     "start_time": "2018-12-20T12:15:20.666924Z"
    }
   },
   "outputs": [],
   "source": [
    "# impirt important packages\n",
    "import pandas as pd\n",
    "import numpy as np\n",
    "import matplotlib.pyplot as plt\n",
    "pd.options.display.max_columns = None  # show all columns"
   ]
  },
  {
   "cell_type": "code",
   "execution_count": 2,
   "metadata": {
    "ExecuteTime": {
     "end_time": "2018-12-20T12:15:23.835234Z",
     "start_time": "2018-12-20T12:15:21.226484Z"
    }
   },
   "outputs": [
    {
     "name": "stderr",
     "output_type": "stream",
     "text": [
      "/anaconda3/lib/python3.6/site-packages/IPython/core/interactiveshell.py:2728: DtypeWarning: Columns (0,1) have mixed types. Specify dtype option on import or set low_memory=False.\n",
      "  interactivity=interactivity, compiler=compiler, result=result)\n"
     ]
    }
   ],
   "source": [
    "# read data\n",
    "airline_data = pd.read_csv('../../data/dataset/airline.csv')\n",
    "# cache_map_data = pd.read_csv('../../data/dataset/cache_map.csv')\n",
    "group_data = pd.read_csv('../../data/dataset/group.csv')\n",
    "order_data = pd.read_csv('../../data/dataset/order.csv')\n",
    "day_schedule_data = pd.read_csv('../../data/dataset/day_schedule.csv')\n",
    "\n",
    "#\n",
    "column_names = ['AirportID', 'Name', 'City', 'Country', 'IATA', 'ICAO', 'Latitude', 'Longitude', \n",
    "              'Altitude', 'Timezone', 'DST', 'TZ', 'Type','Source']\n",
    "df_airport = pd.read_csv('../../data/airport.csv', names=column_names) #ref: https://openflights.org/data.html#airport\n",
    "\n",
    "# test and train data\n",
    "train_data = pd.read_csv('../../data/training-set.csv')\n",
    "test_data = pd.read_csv('../../data/testing-set.csv')"
   ]
  },
  {
   "cell_type": "markdown",
   "metadata": {},
   "source": [
    "### 處理訂單變數"
   ]
  },
  {
   "cell_type": "code",
   "execution_count": 3,
   "metadata": {
    "ExecuteTime": {
     "end_time": "2018-12-20T12:15:26.226974Z",
     "start_time": "2018-12-20T12:15:24.094863Z"
    }
   },
   "outputs": [],
   "source": [
    "order_data['order_date_dt'] = pd.to_datetime(order_data.order_date, format='%d-%b-%y') # ref: http://strftime.org/\n",
    "order_data['order_year'] = order_data.order_date_dt.dt.year\n",
    "order_data['order_month'] = order_data.order_date_dt.dt.month\n",
    "order_data['order_day'] = order_data.order_date_dt.dt.day\n",
    "order_data['order_dayofyear'] = order_data.order_date_dt.dt.dayofyear\n",
    "order_data['order_weekday'] = order_data.order_date_dt.dt.dayofweek # 0=Mon, 6=Sun\n",
    "order_data['unit']=order_data.unit.str.replace('unit_value_', '')\n",
    "order_data['source_1']=order_data.source_1.str.replace('src1_value_', '')\n",
    "order_data['source_2']=order_data.source_2.str.replace('src2_value_', '')\n",
    "order_data['group_id'] = order_data['group_id'].apply(str)"
   ]
  },
  {
   "cell_type": "markdown",
   "metadata": {},
   "source": [
    "### 處理group變數"
   ]
  },
  {
   "cell_type": "code",
   "execution_count": 4,
   "metadata": {
    "ExecuteTime": {
     "end_time": "2018-12-20T12:15:27.251822Z",
     "start_time": "2018-12-20T12:15:26.519978Z"
    }
   },
   "outputs": [],
   "source": [
    "group_data['sub_line'] = group_data.sub_line.str.replace('subline_value_','')\n",
    "group_data['area'] = group_data.area.str.replace('area_value_','')\n",
    "group_data['begin_date_dt'] = pd.to_datetime(group_data.begin_date, format='%d-%b-%y')\n",
    "group_data['begin_year'] = group_data.begin_date_dt.dt.year\n",
    "group_data['begin_month'] = group_data.begin_date_dt.dt.month\n",
    "group_data['begin_day'] = group_data.begin_date_dt.dt.day\n",
    "group_data['begin_dayofyear'] = group_data.begin_date_dt.dt.dayofyear\n",
    "group_data['begin_weekday'] = group_data.begin_date_dt.dt.dayofweek # 0=Mon, 6=Sun\n",
    "group_data['end_date_dt'] = group_data.begin_date_dt + group_data['days'].apply(np.ceil).apply(lambda x: pd.Timedelta(x, unit='D'))\n",
    "group_data['end_year'] = group_data.end_date_dt.dt.year\n",
    "group_data['end_month'] = group_data.end_date_dt.dt.month\n",
    "group_data['end_day'] = group_data.end_date_dt.dt.day\n",
    "group_data['end_dayofyear'] = group_data.end_date_dt.dt.dayofyear\n",
    "group_data['end_weekday'] = group_data.end_date_dt.dt.dayofweek # 0=Mon, 6=Sun"
   ]
  },
  {
   "cell_type": "markdown",
   "metadata": {},
   "source": [
    "### 處理航班變數"
   ]
  },
  {
   "cell_type": "code",
   "execution_count": 5,
   "metadata": {
    "ExecuteTime": {
     "end_time": "2018-12-20T12:16:39.955567Z",
     "start_time": "2018-12-20T12:15:27.524138Z"
    }
   },
   "outputs": [],
   "source": [
    "#\n",
    "airline_data['dst_airport'] = airline_data.dst_airport.str.replace('([A-Z]+) ([^A-Z]+)','\\\\1')\n",
    "airline_data['src_airport'] = airline_data.src_airport.str.replace('([A-Z]+) ([^A-Z]+)','\\\\1')\n",
    "airline_data['go_back'] = airline_data.go_back.str.replace('去程', 'go')\n",
    "airline_data['go_back'] = airline_data.go_back.str.replace('回程', 'back')\n",
    "\n",
    "# unify time, compute the travel time for each routes\n",
    "airline_data['src_IATA'] = airline_data.src_airport.str.replace('([A-Z]+) ([^A-Z])+', '\\\\1')\n",
    "airline_data['dst_IATA'] = airline_data.dst_airport.str.replace('([A-Z]+) ([^A-Z])+', '\\\\1')\n",
    "tmp = pd.merge(airline_data, df_airport[['IATA','TZ']], left_on='src_IATA', right_on='IATA', how='left')\n",
    "airline_data = tmp.rename(index=str, columns={'TZ':'src_TZ'}).drop(['IATA'], axis=1)\n",
    "tmp = pd.merge(airline_data, df_airport[['IATA','TZ']], left_on='dst_IATA', right_on='IATA', how='left')\n",
    "airline_data = tmp.rename(index=str, columns={'TZ':'dst_TZ'}).drop(['IATA'], axis=1)\n",
    "airline_data['fly_time'] = pd.to_datetime(airline_data.fly_time, format='%Y/%m/%d %H:%M')\n",
    "airline_data['arrive_time'] = pd.to_datetime(airline_data.arrive_time, format='%Y/%m/%d %H:%M')\n",
    "\n",
    "def src_time_utc(x):\n",
    "    try: \n",
    "        res = x['fly_time'].tz_localize(x['src_TZ']).tz_convert('UTC')\n",
    "    except:\n",
    "        res = None # 因為有些機場沒有抓到對應time-zone (可後續用手動補)\n",
    "    return res\n",
    "\n",
    "def dst_time_utc(x):\n",
    "    try:\n",
    "        res = x['arrive_time'].tz_localize(x['dst_TZ']).tz_convert('UTC')\n",
    "    except:\n",
    "        res = None\n",
    "    return res\n",
    "\n",
    "airline_data['arrive_time_utc'] = airline_data.apply(dst_time_utc, axis=1)\n",
    "airline_data['fly_time_utc'] = airline_data.apply(src_time_utc, axis=1)\n",
    "airline_data['traval_time'] = airline_data['arrive_time_utc'] - airline_data['fly_time_utc']\n",
    "\n",
    "# derive number of routes for each group\n",
    "go_route_num=airline_data[airline_data['go_back']=='go'].groupby('group_id')['dst_airport'].nunique()\n",
    "back_route_num=airline_data[airline_data['go_back']=='back'].groupby('group_id')['dst_airport'].nunique()\n",
    "df_route_num = pd.merge(go_route_num.to_frame('go_route_num'), back_route_num.to_frame('back_route_num'), left_index=True, right_index=True,how='outer')\n",
    "\n",
    "# derive total travel time for each group\n",
    "def mean(x):\n",
    "    return x.sum()/x.count()\n",
    "\n",
    "#\n",
    "tmp=airline_data[airline_data.go_back=='go'].groupby(['group_id','dst_IATA'])['traval_time'].apply(mean)\n",
    "#print(tmp.head())\n",
    "go_time=tmp.to_frame().groupby(['group_id'])['traval_time'].sum()\n",
    "\n",
    "#\n",
    "tmp=airline_data[airline_data.go_back=='back'].groupby(['group_id','dst_IATA'])['traval_time'].apply(mean)\n",
    "#print(tmp.head())\n",
    "back_time=tmp.to_frame().groupby(['group_id'])['traval_time'].sum()\n",
    "\n",
    "#\n",
    "df_total_travel_time = pd.merge(go_time.to_frame('go_time'), back_time.to_frame('back_time'), left_index=True, right_index=True,how='outer')"
   ]
  },
  {
   "cell_type": "code",
   "execution_count": 6,
   "metadata": {
    "ExecuteTime": {
     "end_time": "2018-12-20T12:16:40.373821Z",
     "start_time": "2018-12-20T12:16:40.365972Z"
    }
   },
   "outputs": [
    {
     "name": "stdout",
     "output_type": "stream",
     "text": [
      "                                  go_time back_time\n",
      "group_id                                           \n",
      "00018d44e062e3db9dc0460a5c78f0ee 04:25:00  04:50:00\n",
      "000858b64a52e724cd008bbfe2fc8cdd 02:15:00  02:35:00\n",
      "000a91291573c4b8b44300de8136b86b 03:15:00  03:00:00\n",
      "000d1cccbb593a8210840a43457aa5e2 02:25:00  02:20:00\n",
      "0012d75d4bfe483a414b09b50b548f58 02:30:00  03:00:00\n",
      "                                  go_route_num  back_route_num\n",
      "group_id                                                      \n",
      "00018d44e062e3db9dc0460a5c78f0ee           1.0             1.0\n",
      "000858b64a52e724cd008bbfe2fc8cdd           1.0             1.0\n",
      "000a91291573c4b8b44300de8136b86b           1.0             1.0\n",
      "000d1cccbb593a8210840a43457aa5e2           1.0             1.0\n",
      "0012d75d4bfe483a414b09b50b548f58           1.0             1.0\n"
     ]
    }
   ],
   "source": [
    "# merge following two df with order_id on group_id \n",
    "print(df_total_travel_time.head())\n",
    "print(df_route_num.head())"
   ]
  },
  {
   "cell_type": "code",
   "execution_count": 7,
   "metadata": {
    "ExecuteTime": {
     "end_time": "2018-12-20T12:16:40.776307Z",
     "start_time": "2018-12-20T12:16:40.751378Z"
    }
   },
   "outputs": [
    {
     "data": {
      "text/html": [
       "<div>\n",
       "<style scoped>\n",
       "    .dataframe tbody tr th:only-of-type {\n",
       "        vertical-align: middle;\n",
       "    }\n",
       "\n",
       "    .dataframe tbody tr th {\n",
       "        vertical-align: top;\n",
       "    }\n",
       "\n",
       "    .dataframe thead th {\n",
       "        text-align: right;\n",
       "    }\n",
       "</style>\n",
       "<table border=\"1\" class=\"dataframe\">\n",
       "  <thead>\n",
       "    <tr style=\"text-align: right;\">\n",
       "      <th></th>\n",
       "      <th>go_route_num</th>\n",
       "      <th>back_route_num</th>\n",
       "    </tr>\n",
       "  </thead>\n",
       "  <tbody>\n",
       "    <tr>\n",
       "      <th>count</th>\n",
       "      <td>48795.000000</td>\n",
       "      <td>48755.000000</td>\n",
       "    </tr>\n",
       "    <tr>\n",
       "      <th>mean</th>\n",
       "      <td>1.069905</td>\n",
       "      <td>1.067501</td>\n",
       "    </tr>\n",
       "    <tr>\n",
       "      <th>std</th>\n",
       "      <td>0.275391</td>\n",
       "      <td>0.268732</td>\n",
       "    </tr>\n",
       "    <tr>\n",
       "      <th>min</th>\n",
       "      <td>1.000000</td>\n",
       "      <td>1.000000</td>\n",
       "    </tr>\n",
       "    <tr>\n",
       "      <th>25%</th>\n",
       "      <td>1.000000</td>\n",
       "      <td>1.000000</td>\n",
       "    </tr>\n",
       "    <tr>\n",
       "      <th>50%</th>\n",
       "      <td>1.000000</td>\n",
       "      <td>1.000000</td>\n",
       "    </tr>\n",
       "    <tr>\n",
       "      <th>75%</th>\n",
       "      <td>1.000000</td>\n",
       "      <td>1.000000</td>\n",
       "    </tr>\n",
       "    <tr>\n",
       "      <th>max</th>\n",
       "      <td>5.000000</td>\n",
       "      <td>4.000000</td>\n",
       "    </tr>\n",
       "  </tbody>\n",
       "</table>\n",
       "</div>"
      ],
      "text/plain": [
       "       go_route_num  back_route_num\n",
       "count  48795.000000    48755.000000\n",
       "mean       1.069905        1.067501\n",
       "std        0.275391        0.268732\n",
       "min        1.000000        1.000000\n",
       "25%        1.000000        1.000000\n",
       "50%        1.000000        1.000000\n",
       "75%        1.000000        1.000000\n",
       "max        5.000000        4.000000"
      ]
     },
     "execution_count": 7,
     "metadata": {},
     "output_type": "execute_result"
    }
   ],
   "source": [
    "df_route_num.describe()"
   ]
  },
  {
   "cell_type": "code",
   "execution_count": 8,
   "metadata": {
    "ExecuteTime": {
     "end_time": "2018-12-20T12:16:41.176463Z",
     "start_time": "2018-12-20T12:16:41.152692Z"
    }
   },
   "outputs": [
    {
     "data": {
      "text/html": [
       "<div>\n",
       "<style scoped>\n",
       "    .dataframe tbody tr th:only-of-type {\n",
       "        vertical-align: middle;\n",
       "    }\n",
       "\n",
       "    .dataframe tbody tr th {\n",
       "        vertical-align: top;\n",
       "    }\n",
       "\n",
       "    .dataframe thead th {\n",
       "        text-align: right;\n",
       "    }\n",
       "</style>\n",
       "<table border=\"1\" class=\"dataframe\">\n",
       "  <thead>\n",
       "    <tr style=\"text-align: right;\">\n",
       "      <th></th>\n",
       "      <th>go_time</th>\n",
       "      <th>back_time</th>\n",
       "    </tr>\n",
       "  </thead>\n",
       "  <tbody>\n",
       "    <tr>\n",
       "      <th>count</th>\n",
       "      <td>48795</td>\n",
       "      <td>48755</td>\n",
       "    </tr>\n",
       "    <tr>\n",
       "      <th>mean</th>\n",
       "      <td>0 days 05:11:58.263756</td>\n",
       "      <td>0 days 05:02:34.065429</td>\n",
       "    </tr>\n",
       "    <tr>\n",
       "      <th>std</th>\n",
       "      <td>1 days 15:56:56.208220</td>\n",
       "      <td>0 days 04:03:28.856158</td>\n",
       "    </tr>\n",
       "    <tr>\n",
       "      <th>min</th>\n",
       "      <td>-1 days +08:55:00</td>\n",
       "      <td>-1 days +02:40:00</td>\n",
       "    </tr>\n",
       "    <tr>\n",
       "      <th>25%</th>\n",
       "      <td>0 days 02:30:00</td>\n",
       "      <td>0 days 02:40:00</td>\n",
       "    </tr>\n",
       "    <tr>\n",
       "      <th>50%</th>\n",
       "      <td>0 days 03:10:00</td>\n",
       "      <td>0 days 03:20:00</td>\n",
       "    </tr>\n",
       "    <tr>\n",
       "      <th>75%</th>\n",
       "      <td>0 days 04:35:00</td>\n",
       "      <td>0 days 04:50:00</td>\n",
       "    </tr>\n",
       "    <tr>\n",
       "      <th>max</th>\n",
       "      <td>365 days 17:40:00</td>\n",
       "      <td>1 days 15:25:00</td>\n",
       "    </tr>\n",
       "  </tbody>\n",
       "</table>\n",
       "</div>"
      ],
      "text/plain": [
       "                      go_time               back_time\n",
       "count                   48795                   48755\n",
       "mean   0 days 05:11:58.263756  0 days 05:02:34.065429\n",
       "std    1 days 15:56:56.208220  0 days 04:03:28.856158\n",
       "min         -1 days +08:55:00       -1 days +02:40:00\n",
       "25%           0 days 02:30:00         0 days 02:40:00\n",
       "50%           0 days 03:10:00         0 days 03:20:00\n",
       "75%           0 days 04:35:00         0 days 04:50:00\n",
       "max         365 days 17:40:00         1 days 15:25:00"
      ]
     },
     "execution_count": 8,
     "metadata": {},
     "output_type": "execute_result"
    }
   ],
   "source": [
    "df_total_travel_time.describe() "
   ]
  },
  {
   "cell_type": "code",
   "execution_count": 9,
   "metadata": {
    "ExecuteTime": {
     "end_time": "2018-12-20T12:16:41.765383Z",
     "start_time": "2018-12-20T12:16:41.558460Z"
    }
   },
   "outputs": [],
   "source": [
    "#資料型別處理\n",
    "df_total_travel_time = df_total_travel_time.reset_index()\n",
    "df_total_travel_time['group_id'] = df_total_travel_time.group_id.apply(str)\n",
    "df_route_num = df_route_num.reset_index()\n",
    "df_route_num['group_id'] = df_route_num.group_id.apply(str)\n",
    "tmp = airline_data[airline_data['go_back']=='go'].sort_values(by='fly_time')\n",
    "df_airline_fly_time = tmp.groupby('group_id').first().reset_index()[['group_id', 'fly_time']]\n",
    "df_airline_fly_time['group_id'] = df_airline_fly_time.group_id.apply(str)"
   ]
  },
  {
   "cell_type": "markdown",
   "metadata": {},
   "source": [
    "> need to fix the cross year trip"
   ]
  },
  {
   "cell_type": "code",
   "execution_count": 23,
   "metadata": {
    "ExecuteTime": {
     "end_time": "2018-12-20T12:16:43.189963Z",
     "start_time": "2018-12-20T12:16:42.190767Z"
    }
   },
   "outputs": [],
   "source": [
    "tmp = pd.merge(order_data, df_total_travel_time, on='group_id', how='left')\n",
    "tmp = pd.merge(tmp, df_route_num, on='group_id', how='left')\n",
    "tmp = pd.merge(tmp, df_airline_fly_time, on='group_id', how='left')\n",
    "df_predictors = pd.merge(tmp, group_data.drop(['product_name','promotion_prog'], axis=1), on='group_id', how='left').drop('order_date', axis=1)\n",
    "df_predictors['date_diff_order_begin'] = df_predictors.fly_time - df_predictors.order_date_dt  "
   ]
  },
  {
   "cell_type": "code",
   "execution_count": null,
   "metadata": {
    "ExecuteTime": {
     "end_time": "2018-12-20T12:16:44.075497Z",
     "start_time": "2018-12-20T12:16:43.787571Z"
    }
   },
   "outputs": [],
   "source": []
  },
  {
   "cell_type": "code",
   "execution_count": 24,
   "metadata": {
    "ExecuteTime": {
     "end_time": "2018-12-20T12:16:44.622891Z",
     "start_time": "2018-12-20T12:16:44.595516Z"
    }
   },
   "outputs": [
    {
     "data": {
      "text/html": [
       "<div>\n",
       "<style scoped>\n",
       "    .dataframe tbody tr th:only-of-type {\n",
       "        vertical-align: middle;\n",
       "    }\n",
       "\n",
       "    .dataframe tbody tr th {\n",
       "        vertical-align: top;\n",
       "    }\n",
       "\n",
       "    .dataframe thead th {\n",
       "        text-align: right;\n",
       "    }\n",
       "</style>\n",
       "<table border=\"1\" class=\"dataframe\">\n",
       "  <thead>\n",
       "    <tr style=\"text-align: right;\">\n",
       "      <th></th>\n",
       "      <th>order_id</th>\n",
       "      <th>group_id</th>\n",
       "      <th>source_1</th>\n",
       "      <th>source_2</th>\n",
       "      <th>unit</th>\n",
       "      <th>people_amount</th>\n",
       "      <th>order_date_dt</th>\n",
       "      <th>order_year</th>\n",
       "      <th>order_month</th>\n",
       "      <th>order_day</th>\n",
       "      <th>order_dayofyear</th>\n",
       "      <th>order_weekday</th>\n",
       "      <th>go_time</th>\n",
       "      <th>back_time</th>\n",
       "      <th>go_route_num</th>\n",
       "      <th>back_route_num</th>\n",
       "      <th>fly_time</th>\n",
       "      <th>sub_line</th>\n",
       "      <th>area</th>\n",
       "      <th>days</th>\n",
       "      <th>begin_date</th>\n",
       "      <th>price</th>\n",
       "      <th>begin_date_dt</th>\n",
       "      <th>begin_year</th>\n",
       "      <th>begin_month</th>\n",
       "      <th>begin_day</th>\n",
       "      <th>begin_dayofyear</th>\n",
       "      <th>begin_weekday</th>\n",
       "      <th>end_date_dt</th>\n",
       "      <th>end_year</th>\n",
       "      <th>end_month</th>\n",
       "      <th>end_day</th>\n",
       "      <th>end_dayofyear</th>\n",
       "      <th>end_weekday</th>\n",
       "      <th>date_diff_order_begin</th>\n",
       "    </tr>\n",
       "  </thead>\n",
       "  <tbody>\n",
       "    <tr>\n",
       "      <th>0</th>\n",
       "      <td>136100</td>\n",
       "      <td>63695</td>\n",
       "      <td>1</td>\n",
       "      <td>1</td>\n",
       "      <td>1</td>\n",
       "      <td>2</td>\n",
       "      <td>2017-01-05</td>\n",
       "      <td>2017</td>\n",
       "      <td>1</td>\n",
       "      <td>5</td>\n",
       "      <td>5</td>\n",
       "      <td>3</td>\n",
       "      <td>08:45:00</td>\n",
       "      <td>15:30:00</td>\n",
       "      <td>1.0</td>\n",
       "      <td>1.0</td>\n",
       "      <td>2017-03-22 23:30:00</td>\n",
       "      <td>1</td>\n",
       "      <td>1</td>\n",
       "      <td>12.0</td>\n",
       "      <td>22-Mar-17</td>\n",
       "      <td>106900.0</td>\n",
       "      <td>2017-03-22</td>\n",
       "      <td>2017</td>\n",
       "      <td>3</td>\n",
       "      <td>22</td>\n",
       "      <td>81</td>\n",
       "      <td>2</td>\n",
       "      <td>2017-04-03</td>\n",
       "      <td>2017</td>\n",
       "      <td>4</td>\n",
       "      <td>3</td>\n",
       "      <td>93</td>\n",
       "      <td>0</td>\n",
       "      <td>76 days 23:30:00</td>\n",
       "    </tr>\n",
       "    <tr>\n",
       "      <th>1</th>\n",
       "      <td>140370</td>\n",
       "      <td>63695</td>\n",
       "      <td>1</td>\n",
       "      <td>1</td>\n",
       "      <td>2</td>\n",
       "      <td>1</td>\n",
       "      <td>2016-11-09</td>\n",
       "      <td>2016</td>\n",
       "      <td>11</td>\n",
       "      <td>9</td>\n",
       "      <td>314</td>\n",
       "      <td>2</td>\n",
       "      <td>08:45:00</td>\n",
       "      <td>15:30:00</td>\n",
       "      <td>1.0</td>\n",
       "      <td>1.0</td>\n",
       "      <td>2017-03-22 23:30:00</td>\n",
       "      <td>1</td>\n",
       "      <td>1</td>\n",
       "      <td>12.0</td>\n",
       "      <td>22-Mar-17</td>\n",
       "      <td>106900.0</td>\n",
       "      <td>2017-03-22</td>\n",
       "      <td>2017</td>\n",
       "      <td>3</td>\n",
       "      <td>22</td>\n",
       "      <td>81</td>\n",
       "      <td>2</td>\n",
       "      <td>2017-04-03</td>\n",
       "      <td>2017</td>\n",
       "      <td>4</td>\n",
       "      <td>3</td>\n",
       "      <td>93</td>\n",
       "      <td>0</td>\n",
       "      <td>133 days 23:30:00</td>\n",
       "    </tr>\n",
       "    <tr>\n",
       "      <th>2</th>\n",
       "      <td>211009</td>\n",
       "      <td>63695</td>\n",
       "      <td>1</td>\n",
       "      <td>1</td>\n",
       "      <td>3</td>\n",
       "      <td>2</td>\n",
       "      <td>2017-01-20</td>\n",
       "      <td>2017</td>\n",
       "      <td>1</td>\n",
       "      <td>20</td>\n",
       "      <td>20</td>\n",
       "      <td>4</td>\n",
       "      <td>08:45:00</td>\n",
       "      <td>15:30:00</td>\n",
       "      <td>1.0</td>\n",
       "      <td>1.0</td>\n",
       "      <td>2017-03-22 23:30:00</td>\n",
       "      <td>1</td>\n",
       "      <td>1</td>\n",
       "      <td>12.0</td>\n",
       "      <td>22-Mar-17</td>\n",
       "      <td>106900.0</td>\n",
       "      <td>2017-03-22</td>\n",
       "      <td>2017</td>\n",
       "      <td>3</td>\n",
       "      <td>22</td>\n",
       "      <td>81</td>\n",
       "      <td>2</td>\n",
       "      <td>2017-04-03</td>\n",
       "      <td>2017</td>\n",
       "      <td>4</td>\n",
       "      <td>3</td>\n",
       "      <td>93</td>\n",
       "      <td>0</td>\n",
       "      <td>61 days 23:30:00</td>\n",
       "    </tr>\n",
       "    <tr>\n",
       "      <th>3</th>\n",
       "      <td>41571</td>\n",
       "      <td>53481</td>\n",
       "      <td>1</td>\n",
       "      <td>1</td>\n",
       "      <td>4</td>\n",
       "      <td>4</td>\n",
       "      <td>2017-03-14</td>\n",
       "      <td>2017</td>\n",
       "      <td>3</td>\n",
       "      <td>14</td>\n",
       "      <td>73</td>\n",
       "      <td>1</td>\n",
       "      <td>09:45:00</td>\n",
       "      <td>14:05:00</td>\n",
       "      <td>1.0</td>\n",
       "      <td>1.0</td>\n",
       "      <td>2017-05-17 23:00:00</td>\n",
       "      <td>1</td>\n",
       "      <td>1</td>\n",
       "      <td>12.0</td>\n",
       "      <td>17-May-17</td>\n",
       "      <td>112900.0</td>\n",
       "      <td>2017-05-17</td>\n",
       "      <td>2017</td>\n",
       "      <td>5</td>\n",
       "      <td>17</td>\n",
       "      <td>137</td>\n",
       "      <td>2</td>\n",
       "      <td>2017-05-29</td>\n",
       "      <td>2017</td>\n",
       "      <td>5</td>\n",
       "      <td>29</td>\n",
       "      <td>149</td>\n",
       "      <td>0</td>\n",
       "      <td>64 days 23:00:00</td>\n",
       "    </tr>\n",
       "    <tr>\n",
       "      <th>4</th>\n",
       "      <td>64125</td>\n",
       "      <td>53481</td>\n",
       "      <td>2</td>\n",
       "      <td>1</td>\n",
       "      <td>5</td>\n",
       "      <td>1</td>\n",
       "      <td>2017-03-27</td>\n",
       "      <td>2017</td>\n",
       "      <td>3</td>\n",
       "      <td>27</td>\n",
       "      <td>86</td>\n",
       "      <td>0</td>\n",
       "      <td>09:45:00</td>\n",
       "      <td>14:05:00</td>\n",
       "      <td>1.0</td>\n",
       "      <td>1.0</td>\n",
       "      <td>2017-05-17 23:00:00</td>\n",
       "      <td>1</td>\n",
       "      <td>1</td>\n",
       "      <td>12.0</td>\n",
       "      <td>17-May-17</td>\n",
       "      <td>112900.0</td>\n",
       "      <td>2017-05-17</td>\n",
       "      <td>2017</td>\n",
       "      <td>5</td>\n",
       "      <td>17</td>\n",
       "      <td>137</td>\n",
       "      <td>2</td>\n",
       "      <td>2017-05-29</td>\n",
       "      <td>2017</td>\n",
       "      <td>5</td>\n",
       "      <td>29</td>\n",
       "      <td>149</td>\n",
       "      <td>0</td>\n",
       "      <td>51 days 23:00:00</td>\n",
       "    </tr>\n",
       "  </tbody>\n",
       "</table>\n",
       "</div>"
      ],
      "text/plain": [
       "  order_id group_id source_1 source_2  unit  people_amount order_date_dt  \\\n",
       "0   136100    63695        1        1     1              2    2017-01-05   \n",
       "1   140370    63695        1        1     2              1    2016-11-09   \n",
       "2   211009    63695        1        1     3              2    2017-01-20   \n",
       "3    41571    53481        1        1     4              4    2017-03-14   \n",
       "4    64125    53481        2        1     5              1    2017-03-27   \n",
       "\n",
       "   order_year  order_month  order_day  order_dayofyear  order_weekday  \\\n",
       "0        2017            1          5                5              3   \n",
       "1        2016           11          9              314              2   \n",
       "2        2017            1         20               20              4   \n",
       "3        2017            3         14               73              1   \n",
       "4        2017            3         27               86              0   \n",
       "\n",
       "   go_time back_time  go_route_num  back_route_num            fly_time  \\\n",
       "0 08:45:00  15:30:00           1.0             1.0 2017-03-22 23:30:00   \n",
       "1 08:45:00  15:30:00           1.0             1.0 2017-03-22 23:30:00   \n",
       "2 08:45:00  15:30:00           1.0             1.0 2017-03-22 23:30:00   \n",
       "3 09:45:00  14:05:00           1.0             1.0 2017-05-17 23:00:00   \n",
       "4 09:45:00  14:05:00           1.0             1.0 2017-05-17 23:00:00   \n",
       "\n",
       "  sub_line area  days begin_date     price begin_date_dt  begin_year  \\\n",
       "0        1    1  12.0  22-Mar-17  106900.0    2017-03-22        2017   \n",
       "1        1    1  12.0  22-Mar-17  106900.0    2017-03-22        2017   \n",
       "2        1    1  12.0  22-Mar-17  106900.0    2017-03-22        2017   \n",
       "3        1    1  12.0  17-May-17  112900.0    2017-05-17        2017   \n",
       "4        1    1  12.0  17-May-17  112900.0    2017-05-17        2017   \n",
       "\n",
       "   begin_month  begin_day  begin_dayofyear  begin_weekday end_date_dt  \\\n",
       "0            3         22               81              2  2017-04-03   \n",
       "1            3         22               81              2  2017-04-03   \n",
       "2            3         22               81              2  2017-04-03   \n",
       "3            5         17              137              2  2017-05-29   \n",
       "4            5         17              137              2  2017-05-29   \n",
       "\n",
       "   end_year  end_month  end_day  end_dayofyear  end_weekday  \\\n",
       "0      2017          4        3             93            0   \n",
       "1      2017          4        3             93            0   \n",
       "2      2017          4        3             93            0   \n",
       "3      2017          5       29            149            0   \n",
       "4      2017          5       29            149            0   \n",
       "\n",
       "  date_diff_order_begin  \n",
       "0      76 days 23:30:00  \n",
       "1     133 days 23:30:00  \n",
       "2      61 days 23:30:00  \n",
       "3      64 days 23:00:00  \n",
       "4      51 days 23:00:00  "
      ]
     },
     "execution_count": 24,
     "metadata": {},
     "output_type": "execute_result"
    }
   ],
   "source": [
    "df_predictors.head()"
   ]
  },
  {
   "cell_type": "markdown",
   "metadata": {},
   "source": [
    "> date_diff_order_begin 可能要trim掉太大的值，奇怪的數值和跨年有關"
   ]
  },
  {
   "cell_type": "code",
   "execution_count": 25,
   "metadata": {
    "ExecuteTime": {
     "end_time": "2018-12-20T12:16:52.220993Z",
     "start_time": "2018-12-20T12:16:45.139171Z"
    }
   },
   "outputs": [],
   "source": [
    "# 把時間轉單位轉成總共幾分\n",
    "df_predictors.go_time = df_predictors.go_time.apply(lambda x: x.total_seconds()/60) \n",
    "df_predictors.back_time = df_predictors.back_time.apply(lambda x: x.total_seconds()/60) \n",
    "df_predictors.date_diff_order_begin = df_predictors.date_diff_order_begin.apply(lambda x: x.total_seconds()/60) "
   ]
  },
  {
   "cell_type": "code",
   "execution_count": 26,
   "metadata": {
    "ExecuteTime": {
     "end_time": "2018-12-20T12:16:53.145454Z",
     "start_time": "2018-12-20T12:16:52.982265Z"
    }
   },
   "outputs": [],
   "source": [
    "df_predictors = df_predictors.drop(['order_date_dt','begin_date_dt','end_date_dt','fly_time','begin_date'], axis=1)"
   ]
  },
  {
   "cell_type": "code",
   "execution_count": 27,
   "metadata": {},
   "outputs": [
    {
     "name": "stdout",
     "output_type": "stream",
     "text": [
      "<class 'pandas.core.frame.DataFrame'>\n",
      "Int64Index: 396915 entries, 0 to 396914\n",
      "Data columns (total 30 columns):\n",
      "order_id                 396915 non-null object\n",
      "group_id                 396915 non-null object\n",
      "source_1                 396915 non-null object\n",
      "source_2                 396915 non-null object\n",
      "unit                     396915 non-null int64\n",
      "people_amount            396915 non-null int64\n",
      "order_year               396915 non-null int64\n",
      "order_month              396915 non-null int64\n",
      "order_day                396915 non-null int64\n",
      "order_dayofyear          396915 non-null int64\n",
      "order_weekday            396915 non-null int64\n",
      "go_time                  395973 non-null float64\n",
      "back_time                395750 non-null float64\n",
      "go_route_num             395973 non-null float64\n",
      "back_route_num           395750 non-null float64\n",
      "sub_line                 396915 non-null object\n",
      "area                     396915 non-null object\n",
      "days                     396915 non-null float64\n",
      "price                    396915 non-null float64\n",
      "begin_year               396915 non-null int64\n",
      "begin_month              396915 non-null int64\n",
      "begin_day                396915 non-null int64\n",
      "begin_dayofyear          396915 non-null int64\n",
      "begin_weekday            396915 non-null int64\n",
      "end_year                 396915 non-null int64\n",
      "end_month                396915 non-null int64\n",
      "end_day                  396915 non-null int64\n",
      "end_dayofyear            396915 non-null int64\n",
      "end_weekday              396915 non-null int64\n",
      "date_diff_order_begin    395973 non-null float64\n",
      "dtypes: float64(7), int64(17), object(6)\n",
      "memory usage: 103.9+ MB\n"
     ]
    }
   ],
   "source": [
    "df_predictors.info()"
   ]
  },
  {
   "cell_type": "code",
   "execution_count": 28,
   "metadata": {},
   "outputs": [
    {
     "data": {
      "text/html": [
       "<div>\n",
       "<style scoped>\n",
       "    .dataframe tbody tr th:only-of-type {\n",
       "        vertical-align: middle;\n",
       "    }\n",
       "\n",
       "    .dataframe tbody tr th {\n",
       "        vertical-align: top;\n",
       "    }\n",
       "\n",
       "    .dataframe thead th {\n",
       "        text-align: right;\n",
       "    }\n",
       "</style>\n",
       "<table border=\"1\" class=\"dataframe\">\n",
       "  <thead>\n",
       "    <tr style=\"text-align: right;\">\n",
       "      <th></th>\n",
       "      <th>order_id</th>\n",
       "      <th>group_id</th>\n",
       "      <th>source_1</th>\n",
       "      <th>source_2</th>\n",
       "      <th>unit</th>\n",
       "      <th>people_amount</th>\n",
       "      <th>order_year</th>\n",
       "      <th>order_month</th>\n",
       "      <th>order_day</th>\n",
       "      <th>order_dayofyear</th>\n",
       "      <th>order_weekday</th>\n",
       "      <th>go_time</th>\n",
       "      <th>back_time</th>\n",
       "      <th>go_route_num</th>\n",
       "      <th>back_route_num</th>\n",
       "      <th>sub_line</th>\n",
       "      <th>area</th>\n",
       "      <th>days</th>\n",
       "      <th>price</th>\n",
       "      <th>begin_year</th>\n",
       "      <th>begin_month</th>\n",
       "      <th>begin_day</th>\n",
       "      <th>begin_dayofyear</th>\n",
       "      <th>begin_weekday</th>\n",
       "      <th>end_year</th>\n",
       "      <th>end_month</th>\n",
       "      <th>end_day</th>\n",
       "      <th>end_dayofyear</th>\n",
       "      <th>end_weekday</th>\n",
       "      <th>date_diff_order_begin</th>\n",
       "    </tr>\n",
       "  </thead>\n",
       "  <tbody>\n",
       "    <tr>\n",
       "      <th>0</th>\n",
       "      <td>136100</td>\n",
       "      <td>63695</td>\n",
       "      <td>1</td>\n",
       "      <td>1</td>\n",
       "      <td>1</td>\n",
       "      <td>2</td>\n",
       "      <td>2017</td>\n",
       "      <td>1</td>\n",
       "      <td>5</td>\n",
       "      <td>5</td>\n",
       "      <td>3</td>\n",
       "      <td>525.0</td>\n",
       "      <td>930.0</td>\n",
       "      <td>1.0</td>\n",
       "      <td>1.0</td>\n",
       "      <td>1</td>\n",
       "      <td>1</td>\n",
       "      <td>12.0</td>\n",
       "      <td>106900.0</td>\n",
       "      <td>2017</td>\n",
       "      <td>3</td>\n",
       "      <td>22</td>\n",
       "      <td>81</td>\n",
       "      <td>2</td>\n",
       "      <td>2017</td>\n",
       "      <td>4</td>\n",
       "      <td>3</td>\n",
       "      <td>93</td>\n",
       "      <td>0</td>\n",
       "      <td>110850.0</td>\n",
       "    </tr>\n",
       "    <tr>\n",
       "      <th>1</th>\n",
       "      <td>140370</td>\n",
       "      <td>63695</td>\n",
       "      <td>1</td>\n",
       "      <td>1</td>\n",
       "      <td>2</td>\n",
       "      <td>1</td>\n",
       "      <td>2016</td>\n",
       "      <td>11</td>\n",
       "      <td>9</td>\n",
       "      <td>314</td>\n",
       "      <td>2</td>\n",
       "      <td>525.0</td>\n",
       "      <td>930.0</td>\n",
       "      <td>1.0</td>\n",
       "      <td>1.0</td>\n",
       "      <td>1</td>\n",
       "      <td>1</td>\n",
       "      <td>12.0</td>\n",
       "      <td>106900.0</td>\n",
       "      <td>2017</td>\n",
       "      <td>3</td>\n",
       "      <td>22</td>\n",
       "      <td>81</td>\n",
       "      <td>2</td>\n",
       "      <td>2017</td>\n",
       "      <td>4</td>\n",
       "      <td>3</td>\n",
       "      <td>93</td>\n",
       "      <td>0</td>\n",
       "      <td>192930.0</td>\n",
       "    </tr>\n",
       "    <tr>\n",
       "      <th>2</th>\n",
       "      <td>211009</td>\n",
       "      <td>63695</td>\n",
       "      <td>1</td>\n",
       "      <td>1</td>\n",
       "      <td>3</td>\n",
       "      <td>2</td>\n",
       "      <td>2017</td>\n",
       "      <td>1</td>\n",
       "      <td>20</td>\n",
       "      <td>20</td>\n",
       "      <td>4</td>\n",
       "      <td>525.0</td>\n",
       "      <td>930.0</td>\n",
       "      <td>1.0</td>\n",
       "      <td>1.0</td>\n",
       "      <td>1</td>\n",
       "      <td>1</td>\n",
       "      <td>12.0</td>\n",
       "      <td>106900.0</td>\n",
       "      <td>2017</td>\n",
       "      <td>3</td>\n",
       "      <td>22</td>\n",
       "      <td>81</td>\n",
       "      <td>2</td>\n",
       "      <td>2017</td>\n",
       "      <td>4</td>\n",
       "      <td>3</td>\n",
       "      <td>93</td>\n",
       "      <td>0</td>\n",
       "      <td>89250.0</td>\n",
       "    </tr>\n",
       "    <tr>\n",
       "      <th>3</th>\n",
       "      <td>41571</td>\n",
       "      <td>53481</td>\n",
       "      <td>1</td>\n",
       "      <td>1</td>\n",
       "      <td>4</td>\n",
       "      <td>4</td>\n",
       "      <td>2017</td>\n",
       "      <td>3</td>\n",
       "      <td>14</td>\n",
       "      <td>73</td>\n",
       "      <td>1</td>\n",
       "      <td>585.0</td>\n",
       "      <td>845.0</td>\n",
       "      <td>1.0</td>\n",
       "      <td>1.0</td>\n",
       "      <td>1</td>\n",
       "      <td>1</td>\n",
       "      <td>12.0</td>\n",
       "      <td>112900.0</td>\n",
       "      <td>2017</td>\n",
       "      <td>5</td>\n",
       "      <td>17</td>\n",
       "      <td>137</td>\n",
       "      <td>2</td>\n",
       "      <td>2017</td>\n",
       "      <td>5</td>\n",
       "      <td>29</td>\n",
       "      <td>149</td>\n",
       "      <td>0</td>\n",
       "      <td>93540.0</td>\n",
       "    </tr>\n",
       "    <tr>\n",
       "      <th>4</th>\n",
       "      <td>64125</td>\n",
       "      <td>53481</td>\n",
       "      <td>2</td>\n",
       "      <td>1</td>\n",
       "      <td>5</td>\n",
       "      <td>1</td>\n",
       "      <td>2017</td>\n",
       "      <td>3</td>\n",
       "      <td>27</td>\n",
       "      <td>86</td>\n",
       "      <td>0</td>\n",
       "      <td>585.0</td>\n",
       "      <td>845.0</td>\n",
       "      <td>1.0</td>\n",
       "      <td>1.0</td>\n",
       "      <td>1</td>\n",
       "      <td>1</td>\n",
       "      <td>12.0</td>\n",
       "      <td>112900.0</td>\n",
       "      <td>2017</td>\n",
       "      <td>5</td>\n",
       "      <td>17</td>\n",
       "      <td>137</td>\n",
       "      <td>2</td>\n",
       "      <td>2017</td>\n",
       "      <td>5</td>\n",
       "      <td>29</td>\n",
       "      <td>149</td>\n",
       "      <td>0</td>\n",
       "      <td>74820.0</td>\n",
       "    </tr>\n",
       "  </tbody>\n",
       "</table>\n",
       "</div>"
      ],
      "text/plain": [
       "  order_id group_id source_1 source_2  unit  people_amount  order_year  \\\n",
       "0   136100    63695        1        1     1              2        2017   \n",
       "1   140370    63695        1        1     2              1        2016   \n",
       "2   211009    63695        1        1     3              2        2017   \n",
       "3    41571    53481        1        1     4              4        2017   \n",
       "4    64125    53481        2        1     5              1        2017   \n",
       "\n",
       "   order_month  order_day  order_dayofyear  order_weekday  go_time  back_time  \\\n",
       "0            1          5                5              3    525.0      930.0   \n",
       "1           11          9              314              2    525.0      930.0   \n",
       "2            1         20               20              4    525.0      930.0   \n",
       "3            3         14               73              1    585.0      845.0   \n",
       "4            3         27               86              0    585.0      845.0   \n",
       "\n",
       "   go_route_num  back_route_num sub_line area  days     price  begin_year  \\\n",
       "0           1.0             1.0        1    1  12.0  106900.0        2017   \n",
       "1           1.0             1.0        1    1  12.0  106900.0        2017   \n",
       "2           1.0             1.0        1    1  12.0  106900.0        2017   \n",
       "3           1.0             1.0        1    1  12.0  112900.0        2017   \n",
       "4           1.0             1.0        1    1  12.0  112900.0        2017   \n",
       "\n",
       "   begin_month  begin_day  begin_dayofyear  begin_weekday  end_year  \\\n",
       "0            3         22               81              2      2017   \n",
       "1            3         22               81              2      2017   \n",
       "2            3         22               81              2      2017   \n",
       "3            5         17              137              2      2017   \n",
       "4            5         17              137              2      2017   \n",
       "\n",
       "   end_month  end_day  end_dayofyear  end_weekday  date_diff_order_begin  \n",
       "0          4        3             93            0               110850.0  \n",
       "1          4        3             93            0               192930.0  \n",
       "2          4        3             93            0                89250.0  \n",
       "3          5       29            149            0                93540.0  \n",
       "4          5       29            149            0                74820.0  "
      ]
     },
     "execution_count": 28,
     "metadata": {},
     "output_type": "execute_result"
    }
   ],
   "source": [
    "df_predictors.head()"
   ]
  },
  {
   "cell_type": "code",
   "execution_count": 83,
   "metadata": {},
   "outputs": [
    {
     "data": {
      "text/plain": [
       "(order_id                    0\n",
       " group_id                    0\n",
       " source_1                    0\n",
       " source_2                    0\n",
       " unit                        0\n",
       " people_amount               0\n",
       " order_year                  0\n",
       " order_month                 0\n",
       " order_day                   0\n",
       " order_dayofyear             0\n",
       " order_weekday               0\n",
       " go_time                   942\n",
       " back_time                1165\n",
       " go_route_num              942\n",
       " back_route_num           1165\n",
       " sub_line                    0\n",
       " area                        0\n",
       " days                        0\n",
       " price                       0\n",
       " begin_year                  0\n",
       " begin_month                 0\n",
       " begin_day                   0\n",
       " begin_dayofyear             0\n",
       " begin_weekday               0\n",
       " end_year                    0\n",
       " end_month                   0\n",
       " end_day                     0\n",
       " end_dayofyear               0\n",
       " end_weekday                 0\n",
       " date_diff_order_begin     942\n",
       " dtype: int64, (396915, 30))"
      ]
     },
     "execution_count": 83,
     "metadata": {},
     "output_type": "execute_result"
    }
   ],
   "source": [
    "df_predictors.isna().sum(axis=0), df_predictors.shape"
   ]
  },
  {
   "cell_type": "code",
   "execution_count": null,
   "metadata": {},
   "outputs": [],
   "source": [
    "source_1                 396915 non-null object\n",
    "source_2                 396915 non-null object\n",
    " "
   ]
  },
  {
   "cell_type": "code",
   "execution_count": null,
   "metadata": {},
   "outputs": [],
   "source": []
  },
  {
   "cell_type": "markdown",
   "metadata": {},
   "source": [
    "### check and separate the final dataset"
   ]
  },
  {
   "cell_type": "code",
   "execution_count": 29,
   "metadata": {
    "ExecuteTime": {
     "end_time": "2018-12-20T12:16:53.603746Z",
     "start_time": "2018-12-20T12:16:53.599508Z"
    }
   },
   "outputs": [
    {
     "data": {
      "text/plain": [
       "(396915, 30)"
      ]
     },
     "execution_count": 29,
     "metadata": {},
     "output_type": "execute_result"
    }
   ],
   "source": [
    "df_predictors.shape"
   ]
  },
  {
   "cell_type": "code",
   "execution_count": 163,
   "metadata": {
    "ExecuteTime": {
     "end_time": "2018-12-20T12:16:55.424451Z",
     "start_time": "2018-12-20T12:16:54.328172Z"
    }
   },
   "outputs": [],
   "source": [
    "df_predictors['source_1'] = df_predictors['source_1'].astype(int)\n",
    "df_predictors['source_2'] = df_predictors['source_2'].astype(int)\n",
    "\n",
    "train_data['order_id'] = train_data['order_id'].astype(str)\n",
    "test_data['order_id'] = test_data['order_id'].astype(str)\n",
    "df_predictors['order_id'] = df_predictors['order_id'].astype(str)\n",
    "\n",
    "# seperate into train and test features\n",
    "train_features = pd.merge(df_predictors, train_data, on='order_id', how='inner') \n",
    "test_features = pd.merge(df_predictors, test_data, on='order_id', how='inner')\n",
    "\n",
    "\n",
    "# make category vars into floats\n",
    "one_hot_encoded_training_predictors = pd.get_dummies(train_features[['unit','area','sub_line']].astype(str))\n",
    "one_hot_encoded_test_predictors = pd.get_dummies(test_features[['unit','area','sub_line']].astype(str))\n",
    "final_train_c, final_test_c = one_hot_encoded_training_predictors.align(one_hot_encoded_test_predictors,\n",
    "                                                                    join='left', axis=1)\n",
    "final_train_c, final_test_c = final_train_c.fillna(0), final_test_c.fillna(0)\n",
    "from sklearn.linear_model import RidgeCV\n",
    "clf_ridge = RidgeCV(alphas=[1e-3, 1e-2, 1e-1, 1]).fit(final_train_c, train_features.deal_or_not)\n",
    "train_ridge_score = clf_ridge.predict(final_train_c) \n",
    "test_ridge_score = clf_ridge.predict(final_test_c) "
   ]
  },
  {
   "cell_type": "code",
   "execution_count": 205,
   "metadata": {},
   "outputs": [],
   "source": [
    "# make category vars into floats\n",
    "from sklearn.linear_model import RidgeCV\n",
    "one_hot_encoded_training_predictors1 = pd.get_dummies(train_features[['unit']].astype(str))\n",
    "one_hot_encoded_test_predictors1 = pd.get_dummies(test_features[['unit']].astype(str))\n",
    "final_train_c1, final_test_c1 = one_hot_encoded_training_predictors1.align(one_hot_encoded_test_predictors1,\n",
    "                                                                    join='left', axis=1)\n",
    "final_train_c1, final_test_c1 = final_train_c1.fillna(0), final_test_c1.fillna(0)\n",
    "clf_ridge1 = RidgeCV(alphas=[1e-3, 1e-2, 1e-1, 1]).fit(final_train_c1, train_features.deal_or_not)\n",
    "train_ridge_score1 = clf_ridge1.predict(final_train_c1) \n",
    "test_ridge_score1 = clf_ridge1.predict(final_test_c1) \n",
    "\n",
    "#\n",
    "one_hot_encoded_training_predictors2 = pd.get_dummies(train_features[['area']].astype(str))\n",
    "one_hot_encoded_test_predictors2 = pd.get_dummies(test_features[['area']].astype(str))\n",
    "final_train_c2, final_test_c2 = one_hot_encoded_training_predictors2.align(one_hot_encoded_test_predictors2,\n",
    "                                                                    join='left', axis=1)\n",
    "final_train_c2, final_test_c2 = final_train_c2.fillna(0), final_test_c2.fillna(0)\n",
    "clf_ridge2 = RidgeCV(alphas=[1e-3, 1e-2, 1e-1, 1]).fit(final_train_c2, train_features.deal_or_not)\n",
    "train_ridge_score2 = clf_ridge2.predict(final_train_c2) \n",
    "test_ridge_score2 = clf_ridge2.predict(final_test_c2) \n",
    "\n",
    "#\n",
    "one_hot_encoded_training_predictors3 = pd.get_dummies(train_features[['sub_line']].astype(str))\n",
    "one_hot_encoded_test_predictors3 = pd.get_dummies(test_features[['sub_line']].astype(str))\n",
    "final_train_c3, final_test_c3 = one_hot_encoded_training_predictors3.align(one_hot_encoded_test_predictors3,\n",
    "                                                                    join='left', axis=1)\n",
    "final_train_c3, final_test_c3 = final_train_c3.fillna(0), final_test_c3.fillna(0)\n",
    "clf_ridge3 = RidgeCV(alphas=[1e-3, 1e-2, 1e-1, 1]).fit(final_train_c3, train_features.deal_or_not)\n",
    "train_ridge_score3 = clf_ridge3.predict(final_train_c3) \n",
    "test_ridge_score3 = clf_ridge3.predict(final_test_c3)\n",
    "\n"
   ]
  },
  {
   "cell_type": "code",
   "execution_count": null,
   "metadata": {},
   "outputs": [],
   "source": []
  },
  {
   "cell_type": "code",
   "execution_count": 210,
   "metadata": {},
   "outputs": [
    {
     "name": "stdout",
     "output_type": "stream",
     "text": [
      "(297020, 28)\n",
      "(99895, 28)\n"
     ]
    }
   ],
   "source": [
    "train_features_final = train_features.drop(['order_id','group_id','unit','area','sub_line','deal_or_not'], axis=1)\n",
    "train_features_final['ridge1'] = train_ridge_score1\n",
    "train_features_final['ridge2'] = train_ridge_score2\n",
    "train_features_final['ridge3'] = train_ridge_score3\n",
    "\n",
    "train_Y = train_features['deal_or_not'] ##\n",
    "print(train_features_final.shape)\n",
    "test_features_final = test_features.drop(['order_id','group_id','unit','area','sub_line'], axis=1)\n",
    "test_features_final = test_features_final.iloc[:,:len(test_features_final.keys())-1]\n",
    "test_features_final['ridge1'] = test_ridge_score1\n",
    "test_features_final['ridge2'] = test_ridge_score2\n",
    "test_features_final['ridge3'] = test_ridge_score3\n",
    "print(test_features_final.shape)"
   ]
  },
  {
   "cell_type": "code",
   "execution_count": 211,
   "metadata": {},
   "outputs": [],
   "source": [
    "# missing data imputation\n",
    "train_features_final = train_features_final.fillna(0)\n",
    "test_features_final = test_features_final.fillna(0)"
   ]
  },
  {
   "cell_type": "code",
   "execution_count": 212,
   "metadata": {},
   "outputs": [
    {
     "data": {
      "text/plain": [
       "XGBClassifier(base_score=0.5, booster='gbtree', colsample_bylevel=1,\n",
       "       colsample_bytree=1, gamma=0, learning_rate=0.1, max_delta_step=0,\n",
       "       max_depth=3, min_child_weight=1, missing=None, n_estimators=100,\n",
       "       n_jobs=1, nthread=None, objective='binary:logistic', random_state=0,\n",
       "       reg_alpha=0, reg_lambda=1, scale_pos_weight=1, seed=None,\n",
       "       silent=True, subsample=1)"
      ]
     },
     "execution_count": 212,
     "metadata": {},
     "output_type": "execute_result"
    }
   ],
   "source": [
    "X_train, X_cv, y_train, y_cv = train_test_split(train_features_final,\n",
    "                                                    train_Y,\n",
    "                                                    test_size = 0.2,\n",
    "                                                    random_state = 0)\n",
    "\n",
    "\n",
    "xgb_model = xgb.XGBClassifier()\n",
    "xgb_model.fit(X_train, y_train)\n"
   ]
  },
  {
   "cell_type": "code",
   "execution_count": 213,
   "metadata": {},
   "outputs": [
    {
     "name": "stdout",
     "output_type": "stream",
     "text": [
      "59404 59404\n"
     ]
    },
    {
     "name": "stderr",
     "output_type": "stream",
     "text": [
      "/anaconda3/lib/python3.6/site-packages/sklearn/preprocessing/label.py:151: DeprecationWarning: The truth value of an empty array is ambiguous. Returning False, but in future this will result in an error. Use `array.size > 0` to check that an array is not empty.\n",
      "  if diff:\n"
     ]
    }
   ],
   "source": [
    "xgb_predictions = xgb_model.predict(X_cv)\n",
    "print(len(y_cv), len(xgb_predictions))"
   ]
  },
  {
   "cell_type": "code",
   "execution_count": 214,
   "metadata": {},
   "outputs": [
    {
     "name": "stdout",
     "output_type": "stream",
     "text": [
      "\n",
      "Optimized Model\n",
      "------\n",
      "Final accuracy score on the testing data: 0.8234\n",
      "Final precision score on the testing data: 0.9485\n",
      "Final recall score on the testing data: 0.1001\n",
      "Final F-score on the testing data: 0.3519\n"
     ]
    },
    {
     "data": {
      "text/plain": [
       "<matplotlib.axes._subplots.AxesSubplot at 0x14e98a358>"
      ]
     },
     "execution_count": 214,
     "metadata": {},
     "output_type": "execute_result"
    },
    {
     "data": {
      "image/png": "[encoded data removed]",
      "text/plain": [
       "<matplotlib.figure.Figure at 0x1aa4a94f28>"
      ]
     },
     "metadata": {},
     "output_type": "display_data"
    }
   ],
   "source": [
    "# Report the before-and-afterscores\n",
    "print(\"\\nOptimized Model\\n------\")\n",
    "print(\"Final accuracy score on the testing data: {:.4f}\".format(accuracy_score(y_cv, xgb_predictions)))\n",
    "print(\"Final precision score on the testing data: {:.4f}\".format(precision_score(y_cv, xgb_predictions)))\n",
    "print(\"Final recall score on the testing data: {:.4f}\".format(recall_score(y_cv, xgb_predictions)))\n",
    "print(\"Final F-score on the testing data: {:.4f}\".format(fbeta_score(y_cv, xgb_predictions, beta = 0.5)))\n",
    "\n",
    "from sklearn.metrics import confusion_matrix\n",
    "import seaborn as sns\n",
    "%matplotlib inline\n",
    "sns.heatmap(confusion_matrix(y_cv, xgb_predictions), annot = True, fmt = '')"
   ]
  },
  {
   "cell_type": "code",
   "execution_count": 203,
   "metadata": {},
   "outputs": [
    {
     "name": "stdout",
     "output_type": "stream",
     "text": [
      "\n",
      "Optimized Model\n",
      "------\n",
      "Final accuracy score on the testing data: 0.8234\n",
      "Final precision score on the testing data: 0.9384\n",
      "Final recall score on the testing data: 0.1012\n",
      "Final F-score on the testing data: 0.3535\n"
     ]
    },
    {
     "data": {
      "text/plain": [
       "<matplotlib.axes._subplots.AxesSubplot at 0x127d0a358>"
      ]
     },
     "execution_count": 203,
     "metadata": {},
     "output_type": "execute_result"
    },
    {
     "data": {
      "image/png": "[encoded data removed]",
      "text/plain": [
       "<matplotlib.figure.Figure at 0x14e98a940>"
      ]
     },
     "metadata": {},
     "output_type": "display_data"
    }
   ],
   "source": [
    "# Report the before-and-afterscores (1st ridge xgboost)\n",
    "print(\"\\nOptimized Model\\n------\")\n",
    "print(\"Final accuracy score on the testing data: {:.4f}\".format(accuracy_score(y_cv, xgb_predictions)))\n",
    "print(\"Final precision score on the testing data: {:.4f}\".format(precision_score(y_cv, xgb_predictions)))\n",
    "print(\"Final recall score on the testing data: {:.4f}\".format(recall_score(y_cv, xgb_predictions)))\n",
    "print(\"Final F-score on the testing data: {:.4f}\".format(fbeta_score(y_cv, xgb_predictions, beta = 0.5)))\n",
    "\n",
    "from sklearn.metrics import confusion_matrix\n",
    "import seaborn as sns\n",
    "%matplotlib inline\n",
    "sns.heatmap(confusion_matrix(y_cv, xgb_predictions), annot = True, fmt = '')"
   ]
  },
  {
   "cell_type": "code",
   "execution_count": 176,
   "metadata": {},
   "outputs": [
    {
     "name": "stderr",
     "output_type": "stream",
     "text": [
      "/anaconda3/lib/python3.6/site-packages/sklearn/preprocessing/label.py:151: DeprecationWarning: The truth value of an empty array is ambiguous. Returning False, but in future this will result in an error. Use `array.size > 0` to check that an array is not empty.\n",
      "  if diff:\n"
     ]
    }
   ],
   "source": [
    "submission_Y = xgb_predictions_submission = xgb_model.predict(test_features_final)"
   ]
  },
  {
   "cell_type": "code",
   "execution_count": 197,
   "metadata": {},
   "outputs": [
    {
     "name": "stdout",
     "output_type": "stream",
     "text": [
      "2315/99895 of dealed order\n"
     ]
    }
   ],
   "source": [
    "print('{}/{} of dealed order'.format(submission_Y.sum(), len(submission_Y) ))"
   ]
  },
  {
   "cell_type": "code",
   "execution_count": 198,
   "metadata": {},
   "outputs": [
    {
     "data": {
      "text/html": [
       "<div>\n",
       "<style scoped>\n",
       "    .dataframe tbody tr th:only-of-type {\n",
       "        vertical-align: middle;\n",
       "    }\n",
       "\n",
       "    .dataframe tbody tr th {\n",
       "        vertical-align: top;\n",
       "    }\n",
       "\n",
       "    .dataframe thead th {\n",
       "        text-align: right;\n",
       "    }\n",
       "</style>\n",
       "<table border=\"1\" class=\"dataframe\">\n",
       "  <thead>\n",
       "    <tr style=\"text-align: right;\">\n",
       "      <th></th>\n",
       "      <th>order_id</th>\n",
       "      <th>deal_or_not</th>\n",
       "    </tr>\n",
       "  </thead>\n",
       "  <tbody>\n",
       "    <tr>\n",
       "      <th>0</th>\n",
       "      <td>3240332c374b21f9882f899f13b71308</td>\n",
       "      <td>0</td>\n",
       "    </tr>\n",
       "    <tr>\n",
       "      <th>1</th>\n",
       "      <td>bf0c0a570b848499180b9dbd49a12d76</td>\n",
       "      <td>0</td>\n",
       "    </tr>\n",
       "    <tr>\n",
       "      <th>2</th>\n",
       "      <td>0db30b8d4770f5145d932133e54a35a1</td>\n",
       "      <td>1</td>\n",
       "    </tr>\n",
       "    <tr>\n",
       "      <th>3</th>\n",
       "      <td>d3eaffe7c163fabadd8bff4aa28ee1c1</td>\n",
       "      <td>0</td>\n",
       "    </tr>\n",
       "    <tr>\n",
       "      <th>4</th>\n",
       "      <td>fefb2b6d55df4474e4826ddac2a97465</td>\n",
       "      <td>0</td>\n",
       "    </tr>\n",
       "  </tbody>\n",
       "</table>\n",
       "</div>"
      ],
      "text/plain": [
       "                           order_id  deal_or_not\n",
       "0  3240332c374b21f9882f899f13b71308            0\n",
       "1  bf0c0a570b848499180b9dbd49a12d76            0\n",
       "2  0db30b8d4770f5145d932133e54a35a1            1\n",
       "3  d3eaffe7c163fabadd8bff4aa28ee1c1            0\n",
       "4  fefb2b6d55df4474e4826ddac2a97465            0"
      ]
     },
     "execution_count": 198,
     "metadata": {},
     "output_type": "execute_result"
    }
   ],
   "source": [
    "df_submission = test_data.iloc[:,:1].copy()\n",
    "df_submission['deal_or_not'] = submission_Y\n",
    "df_submission.head()"
   ]
  },
  {
   "cell_type": "code",
   "execution_count": 199,
   "metadata": {},
   "outputs": [],
   "source": [
    "df_submission.to_csv('xgb_results.csv', index=False)\n",
    "\n"
   ]
  },
  {
   "cell_type": "code",
   "execution_count": 180,
   "metadata": {},
   "outputs": [
    {
     "data": {
      "text/plain": [
       "99895"
      ]
     },
     "execution_count": 180,
     "metadata": {},
     "output_type": "execute_result"
    }
   ],
   "source": [
    "len(submission_Y)"
   ]
  },
  {
   "cell_type": "code",
   "execution_count": 181,
   "metadata": {},
   "outputs": [
    {
     "data": {
      "text/plain": [
       "0.02317433304970219"
      ]
     },
     "execution_count": 181,
     "metadata": {},
     "output_type": "execute_result"
    }
   ],
   "source": [
    "2315/99895"
   ]
  },
  {
   "cell_type": "code",
   "execution_count": 183,
   "metadata": {},
   "outputs": [],
   "source": [
    "rf_results=pd.read_csv('../HuangKY/rf_results.csv')"
   ]
  },
  {
   "cell_type": "code",
   "execution_count": 185,
   "metadata": {},
   "outputs": [
    {
     "data": {
      "text/plain": [
       "2144"
      ]
     },
     "execution_count": 185,
     "metadata": {},
     "output_type": "execute_result"
    }
   ],
   "source": [
    "rf_results.deal_or_not.sum()"
   ]
  },
  {
   "cell_type": "code",
   "execution_count": 217,
   "metadata": {},
   "outputs": [
    {
     "data": {
      "text/html": [
       "<div>\n",
       "<style scoped>\n",
       "    .dataframe tbody tr th:only-of-type {\n",
       "        vertical-align: middle;\n",
       "    }\n",
       "\n",
       "    .dataframe tbody tr th {\n",
       "        vertical-align: top;\n",
       "    }\n",
       "\n",
       "    .dataframe thead th {\n",
       "        text-align: right;\n",
       "    }\n",
       "</style>\n",
       "<table border=\"1\" class=\"dataframe\">\n",
       "  <thead>\n",
       "    <tr style=\"text-align: right;\">\n",
       "      <th></th>\n",
       "      <th>source_1</th>\n",
       "      <th>source_2</th>\n",
       "      <th>people_amount</th>\n",
       "      <th>order_year</th>\n",
       "      <th>order_month</th>\n",
       "      <th>order_day</th>\n",
       "      <th>order_dayofyear</th>\n",
       "      <th>order_weekday</th>\n",
       "      <th>go_time</th>\n",
       "      <th>back_time</th>\n",
       "      <th>go_route_num</th>\n",
       "      <th>back_route_num</th>\n",
       "      <th>days</th>\n",
       "      <th>price</th>\n",
       "      <th>begin_year</th>\n",
       "      <th>begin_month</th>\n",
       "      <th>begin_day</th>\n",
       "      <th>begin_dayofyear</th>\n",
       "      <th>begin_weekday</th>\n",
       "      <th>end_year</th>\n",
       "      <th>end_month</th>\n",
       "      <th>end_day</th>\n",
       "      <th>end_dayofyear</th>\n",
       "      <th>end_weekday</th>\n",
       "      <th>date_diff_order_begin</th>\n",
       "      <th>ridge1</th>\n",
       "      <th>ridge2</th>\n",
       "      <th>ridge3</th>\n",
       "    </tr>\n",
       "  </thead>\n",
       "  <tbody>\n",
       "    <tr>\n",
       "      <th>count</th>\n",
       "      <td>297020.000000</td>\n",
       "      <td>297020.000000</td>\n",
       "      <td>297020.000000</td>\n",
       "      <td>297020.000000</td>\n",
       "      <td>297020.000000</td>\n",
       "      <td>297020.000000</td>\n",
       "      <td>297020.000000</td>\n",
       "      <td>297020.000000</td>\n",
       "      <td>297020.000000</td>\n",
       "      <td>297020.000000</td>\n",
       "      <td>297020.00000</td>\n",
       "      <td>297020.000000</td>\n",
       "      <td>297020.000000</td>\n",
       "      <td>297020.000000</td>\n",
       "      <td>297020.0</td>\n",
       "      <td>297020.000000</td>\n",
       "      <td>297020.000000</td>\n",
       "      <td>297020.000000</td>\n",
       "      <td>297020.000000</td>\n",
       "      <td>297020.000000</td>\n",
       "      <td>297020.000000</td>\n",
       "      <td>297020.000000</td>\n",
       "      <td>297020.000000</td>\n",
       "      <td>297020.000000</td>\n",
       "      <td>297020.000000</td>\n",
       "      <td>297020.000000</td>\n",
       "      <td>297020.000000</td>\n",
       "      <td>297020.000000</td>\n",
       "    </tr>\n",
       "    <tr>\n",
       "      <th>mean</th>\n",
       "      <td>1.342697</td>\n",
       "      <td>1.514245</td>\n",
       "      <td>3.204232</td>\n",
       "      <td>2016.854946</td>\n",
       "      <td>6.453751</td>\n",
       "      <td>15.287412</td>\n",
       "      <td>180.479490</td>\n",
       "      <td>2.393721</td>\n",
       "      <td>346.340693</td>\n",
       "      <td>345.654205</td>\n",
       "      <td>1.08220</td>\n",
       "      <td>1.079028</td>\n",
       "      <td>6.539226</td>\n",
       "      <td>38229.697465</td>\n",
       "      <td>2017.0</td>\n",
       "      <td>6.410562</td>\n",
       "      <td>16.424150</td>\n",
       "      <td>180.190630</td>\n",
       "      <td>3.138476</td>\n",
       "      <td>2017.020372</td>\n",
       "      <td>6.415905</td>\n",
       "      <td>15.369083</td>\n",
       "      <td>179.293943</td>\n",
       "      <td>2.879745</td>\n",
       "      <td>76603.920985</td>\n",
       "      <td>0.197253</td>\n",
       "      <td>0.197253</td>\n",
       "      <td>0.197253</td>\n",
       "    </tr>\n",
       "    <tr>\n",
       "      <th>std</th>\n",
       "      <td>0.522653</td>\n",
       "      <td>0.977495</td>\n",
       "      <td>3.177820</td>\n",
       "      <td>0.352156</td>\n",
       "      <td>3.365564</td>\n",
       "      <td>8.590166</td>\n",
       "      <td>103.614357</td>\n",
       "      <td>1.773984</td>\n",
       "      <td>290.651801</td>\n",
       "      <td>268.835472</td>\n",
       "      <td>0.30642</td>\n",
       "      <td>0.301624</td>\n",
       "      <td>2.192743</td>\n",
       "      <td>20616.239184</td>\n",
       "      <td>0.0</td>\n",
       "      <td>3.413493</td>\n",
       "      <td>9.014846</td>\n",
       "      <td>103.304596</td>\n",
       "      <td>1.951427</td>\n",
       "      <td>0.141271</td>\n",
       "      <td>3.366803</td>\n",
       "      <td>9.190652</td>\n",
       "      <td>103.217177</td>\n",
       "      <td>2.019927</td>\n",
       "      <td>52209.333819</td>\n",
       "      <td>0.087281</td>\n",
       "      <td>0.028510</td>\n",
       "      <td>0.016542</td>\n",
       "    </tr>\n",
       "    <tr>\n",
       "      <th>min</th>\n",
       "      <td>1.000000</td>\n",
       "      <td>1.000000</td>\n",
       "      <td>1.000000</td>\n",
       "      <td>2016.000000</td>\n",
       "      <td>1.000000</td>\n",
       "      <td>1.000000</td>\n",
       "      <td>1.000000</td>\n",
       "      <td>0.000000</td>\n",
       "      <td>-905.000000</td>\n",
       "      <td>-1280.000000</td>\n",
       "      <td>0.00000</td>\n",
       "      <td>0.000000</td>\n",
       "      <td>2.000000</td>\n",
       "      <td>3000.000000</td>\n",
       "      <td>2017.0</td>\n",
       "      <td>1.000000</td>\n",
       "      <td>1.000000</td>\n",
       "      <td>1.000000</td>\n",
       "      <td>0.000000</td>\n",
       "      <td>2017.000000</td>\n",
       "      <td>1.000000</td>\n",
       "      <td>1.000000</td>\n",
       "      <td>1.000000</td>\n",
       "      <td>0.000000</td>\n",
       "      <td>-487615.000000</td>\n",
       "      <td>0.000110</td>\n",
       "      <td>0.001026</td>\n",
       "      <td>0.009906</td>\n",
       "    </tr>\n",
       "    <tr>\n",
       "      <th>25%</th>\n",
       "      <td>1.000000</td>\n",
       "      <td>1.000000</td>\n",
       "      <td>2.000000</td>\n",
       "      <td>2017.000000</td>\n",
       "      <td>4.000000</td>\n",
       "      <td>8.000000</td>\n",
       "      <td>92.000000</td>\n",
       "      <td>1.000000</td>\n",
       "      <td>160.000000</td>\n",
       "      <td>170.000000</td>\n",
       "      <td>1.00000</td>\n",
       "      <td>1.000000</td>\n",
       "      <td>5.000000</td>\n",
       "      <td>23900.000000</td>\n",
       "      <td>2017.0</td>\n",
       "      <td>4.000000</td>\n",
       "      <td>8.000000</td>\n",
       "      <td>91.000000</td>\n",
       "      <td>1.000000</td>\n",
       "      <td>2017.000000</td>\n",
       "      <td>4.000000</td>\n",
       "      <td>7.000000</td>\n",
       "      <td>93.000000</td>\n",
       "      <td>1.000000</td>\n",
       "      <td>36543.750000</td>\n",
       "      <td>0.167899</td>\n",
       "      <td>0.176761</td>\n",
       "      <td>0.185873</td>\n",
       "    </tr>\n",
       "    <tr>\n",
       "      <th>50%</th>\n",
       "      <td>1.000000</td>\n",
       "      <td>1.000000</td>\n",
       "      <td>2.000000</td>\n",
       "      <td>2017.000000</td>\n",
       "      <td>6.000000</td>\n",
       "      <td>15.000000</td>\n",
       "      <td>177.000000</td>\n",
       "      <td>2.000000</td>\n",
       "      <td>205.000000</td>\n",
       "      <td>220.000000</td>\n",
       "      <td>1.00000</td>\n",
       "      <td>1.000000</td>\n",
       "      <td>5.000000</td>\n",
       "      <td>33900.000000</td>\n",
       "      <td>2017.0</td>\n",
       "      <td>6.000000</td>\n",
       "      <td>17.000000</td>\n",
       "      <td>178.000000</td>\n",
       "      <td>3.000000</td>\n",
       "      <td>2017.000000</td>\n",
       "      <td>6.000000</td>\n",
       "      <td>15.000000</td>\n",
       "      <td>179.000000</td>\n",
       "      <td>3.000000</td>\n",
       "      <td>65220.000000</td>\n",
       "      <td>0.176392</td>\n",
       "      <td>0.203122</td>\n",
       "      <td>0.202885</td>\n",
       "    </tr>\n",
       "    <tr>\n",
       "      <th>75%</th>\n",
       "      <td>2.000000</td>\n",
       "      <td>1.000000</td>\n",
       "      <td>4.000000</td>\n",
       "      <td>2017.000000</td>\n",
       "      <td>9.000000</td>\n",
       "      <td>22.000000</td>\n",
       "      <td>270.000000</td>\n",
       "      <td>4.000000</td>\n",
       "      <td>535.000000</td>\n",
       "      <td>540.000000</td>\n",
       "      <td>1.00000</td>\n",
       "      <td>1.000000</td>\n",
       "      <td>8.000000</td>\n",
       "      <td>43900.000000</td>\n",
       "      <td>2017.0</td>\n",
       "      <td>9.000000</td>\n",
       "      <td>24.000000</td>\n",
       "      <td>273.000000</td>\n",
       "      <td>5.000000</td>\n",
       "      <td>2017.000000</td>\n",
       "      <td>9.000000</td>\n",
       "      <td>24.000000</td>\n",
       "      <td>271.000000</td>\n",
       "      <td>5.000000</td>\n",
       "      <td>105871.250000</td>\n",
       "      <td>0.199837</td>\n",
       "      <td>0.212843</td>\n",
       "      <td>0.207282</td>\n",
       "    </tr>\n",
       "    <tr>\n",
       "      <th>max</th>\n",
       "      <td>3.000000</td>\n",
       "      <td>4.000000</td>\n",
       "      <td>50.000000</td>\n",
       "      <td>2017.000000</td>\n",
       "      <td>12.000000</td>\n",
       "      <td>31.000000</td>\n",
       "      <td>366.000000</td>\n",
       "      <td>6.000000</td>\n",
       "      <td>2315.000000</td>\n",
       "      <td>2365.000000</td>\n",
       "      <td>3.00000</td>\n",
       "      <td>4.000000</td>\n",
       "      <td>17.000000</td>\n",
       "      <td>222900.000000</td>\n",
       "      <td>2017.0</td>\n",
       "      <td>12.000000</td>\n",
       "      <td>31.000000</td>\n",
       "      <td>365.000000</td>\n",
       "      <td>6.000000</td>\n",
       "      <td>2018.000000</td>\n",
       "      <td>12.000000</td>\n",
       "      <td>31.000000</td>\n",
       "      <td>365.000000</td>\n",
       "      <td>6.000000</td>\n",
       "      <td>989265.000000</td>\n",
       "      <td>0.930141</td>\n",
       "      <td>0.393474</td>\n",
       "      <td>0.398528</td>\n",
       "    </tr>\n",
       "  </tbody>\n",
       "</table>\n",
       "</div>"
      ],
      "text/plain": [
       "            source_1       source_2  people_amount     order_year  \\\n",
       "count  297020.000000  297020.000000  297020.000000  297020.000000   \n",
       "mean        1.342697       1.514245       3.204232    2016.854946   \n",
       "std         0.522653       0.977495       3.177820       0.352156   \n",
       "min         1.000000       1.000000       1.000000    2016.000000   \n",
       "25%         1.000000       1.000000       2.000000    2017.000000   \n",
       "50%         1.000000       1.000000       2.000000    2017.000000   \n",
       "75%         2.000000       1.000000       4.000000    2017.000000   \n",
       "max         3.000000       4.000000      50.000000    2017.000000   \n",
       "\n",
       "         order_month      order_day  order_dayofyear  order_weekday  \\\n",
       "count  297020.000000  297020.000000    297020.000000  297020.000000   \n",
       "mean        6.453751      15.287412       180.479490       2.393721   \n",
       "std         3.365564       8.590166       103.614357       1.773984   \n",
       "min         1.000000       1.000000         1.000000       0.000000   \n",
       "25%         4.000000       8.000000        92.000000       1.000000   \n",
       "50%         6.000000      15.000000       177.000000       2.000000   \n",
       "75%         9.000000      22.000000       270.000000       4.000000   \n",
       "max        12.000000      31.000000       366.000000       6.000000   \n",
       "\n",
       "             go_time      back_time  go_route_num  back_route_num  \\\n",
       "count  297020.000000  297020.000000  297020.00000   297020.000000   \n",
       "mean      346.340693     345.654205       1.08220        1.079028   \n",
       "std       290.651801     268.835472       0.30642        0.301624   \n",
       "min      -905.000000   -1280.000000       0.00000        0.000000   \n",
       "25%       160.000000     170.000000       1.00000        1.000000   \n",
       "50%       205.000000     220.000000       1.00000        1.000000   \n",
       "75%       535.000000     540.000000       1.00000        1.000000   \n",
       "max      2315.000000    2365.000000       3.00000        4.000000   \n",
       "\n",
       "                days          price  begin_year    begin_month      begin_day  \\\n",
       "count  297020.000000  297020.000000    297020.0  297020.000000  297020.000000   \n",
       "mean        6.539226   38229.697465      2017.0       6.410562      16.424150   \n",
       "std         2.192743   20616.239184         0.0       3.413493       9.014846   \n",
       "min         2.000000    3000.000000      2017.0       1.000000       1.000000   \n",
       "25%         5.000000   23900.000000      2017.0       4.000000       8.000000   \n",
       "50%         5.000000   33900.000000      2017.0       6.000000      17.000000   \n",
       "75%         8.000000   43900.000000      2017.0       9.000000      24.000000   \n",
       "max        17.000000  222900.000000      2017.0      12.000000      31.000000   \n",
       "\n",
       "       begin_dayofyear  begin_weekday       end_year      end_month  \\\n",
       "count    297020.000000  297020.000000  297020.000000  297020.000000   \n",
       "mean        180.190630       3.138476    2017.020372       6.415905   \n",
       "std         103.304596       1.951427       0.141271       3.366803   \n",
       "min           1.000000       0.000000    2017.000000       1.000000   \n",
       "25%          91.000000       1.000000    2017.000000       4.000000   \n",
       "50%         178.000000       3.000000    2017.000000       6.000000   \n",
       "75%         273.000000       5.000000    2017.000000       9.000000   \n",
       "max         365.000000       6.000000    2018.000000      12.000000   \n",
       "\n",
       "             end_day  end_dayofyear    end_weekday  date_diff_order_begin  \\\n",
       "count  297020.000000  297020.000000  297020.000000          297020.000000   \n",
       "mean       15.369083     179.293943       2.879745           76603.920985   \n",
       "std         9.190652     103.217177       2.019927           52209.333819   \n",
       "min         1.000000       1.000000       0.000000         -487615.000000   \n",
       "25%         7.000000      93.000000       1.000000           36543.750000   \n",
       "50%        15.000000     179.000000       3.000000           65220.000000   \n",
       "75%        24.000000     271.000000       5.000000          105871.250000   \n",
       "max        31.000000     365.000000       6.000000          989265.000000   \n",
       "\n",
       "              ridge1         ridge2         ridge3  \n",
       "count  297020.000000  297020.000000  297020.000000  \n",
       "mean        0.197253       0.197253       0.197253  \n",
       "std         0.087281       0.028510       0.016542  \n",
       "min         0.000110       0.001026       0.009906  \n",
       "25%         0.167899       0.176761       0.185873  \n",
       "50%         0.176392       0.203122       0.202885  \n",
       "75%         0.199837       0.212843       0.207282  \n",
       "max         0.930141       0.393474       0.398528  "
      ]
     },
     "execution_count": 217,
     "metadata": {},
     "output_type": "execute_result"
    }
   ],
   "source": [
    "train_features_final.describe()"
   ]
  },
  {
   "cell_type": "code",
   "execution_count": 218,
   "metadata": {},
   "outputs": [
    {
     "data": {
      "text/html": [
       "<div>\n",
       "<style scoped>\n",
       "    .dataframe tbody tr th:only-of-type {\n",
       "        vertical-align: middle;\n",
       "    }\n",
       "\n",
       "    .dataframe tbody tr th {\n",
       "        vertical-align: top;\n",
       "    }\n",
       "\n",
       "    .dataframe thead th {\n",
       "        text-align: right;\n",
       "    }\n",
       "</style>\n",
       "<table border=\"1\" class=\"dataframe\">\n",
       "  <thead>\n",
       "    <tr style=\"text-align: right;\">\n",
       "      <th></th>\n",
       "      <th>go_time</th>\n",
       "      <th>back_time</th>\n",
       "      <th>date_diff_order_begin</th>\n",
       "    </tr>\n",
       "  </thead>\n",
       "  <tbody>\n",
       "    <tr>\n",
       "      <th>count</th>\n",
       "      <td>99895.000000</td>\n",
       "      <td>99895.000000</td>\n",
       "      <td>9.989500e+04</td>\n",
       "    </tr>\n",
       "    <tr>\n",
       "      <th>mean</th>\n",
       "      <td>471.731708</td>\n",
       "      <td>371.829691</td>\n",
       "      <td>8.551050e+04</td>\n",
       "    </tr>\n",
       "    <tr>\n",
       "      <th>std</th>\n",
       "      <td>6872.013489</td>\n",
       "      <td>280.374131</td>\n",
       "      <td>6.021623e+04</td>\n",
       "    </tr>\n",
       "    <tr>\n",
       "      <th>min</th>\n",
       "      <td>0.000000</td>\n",
       "      <td>0.000000</td>\n",
       "      <td>-4.482850e+05</td>\n",
       "    </tr>\n",
       "    <tr>\n",
       "      <th>25%</th>\n",
       "      <td>150.000000</td>\n",
       "      <td>165.000000</td>\n",
       "      <td>4.031000e+04</td>\n",
       "    </tr>\n",
       "    <tr>\n",
       "      <th>50%</th>\n",
       "      <td>205.000000</td>\n",
       "      <td>220.000000</td>\n",
       "      <td>7.320000e+04</td>\n",
       "    </tr>\n",
       "    <tr>\n",
       "      <th>75%</th>\n",
       "      <td>765.000000</td>\n",
       "      <td>705.000000</td>\n",
       "      <td>1.204650e+05</td>\n",
       "    </tr>\n",
       "    <tr>\n",
       "      <th>max</th>\n",
       "      <td>526660.000000</td>\n",
       "      <td>2200.000000</td>\n",
       "      <td>1.212945e+06</td>\n",
       "    </tr>\n",
       "  </tbody>\n",
       "</table>\n",
       "</div>"
      ],
      "text/plain": [
       "             go_time     back_time  date_diff_order_begin\n",
       "count   99895.000000  99895.000000           9.989500e+04\n",
       "mean      471.731708    371.829691           8.551050e+04\n",
       "std      6872.013489    280.374131           6.021623e+04\n",
       "min         0.000000      0.000000          -4.482850e+05\n",
       "25%       150.000000    165.000000           4.031000e+04\n",
       "50%       205.000000    220.000000           7.320000e+04\n",
       "75%       765.000000    705.000000           1.204650e+05\n",
       "max    526660.000000   2200.000000           1.212945e+06"
      ]
     },
     "execution_count": 218,
     "metadata": {},
     "output_type": "execute_result"
    }
   ],
   "source": [
    "test_features_final[['go_time','back_time','date_diff_order_begin',]].describe()"
   ]
  },
  {
   "cell_type": "code",
   "execution_count": null,
   "metadata": {},
   "outputs": [],
   "source": []
  },
  {
   "cell_type": "code",
   "execution_count": 232,
   "metadata": {},
   "outputs": [
    {
     "name": "stderr",
     "output_type": "stream",
     "text": [
      "/anaconda3/lib/python3.6/site-packages/ipykernel_launcher.py:1: UserWarning: Boolean Series key will be reindexed to match DataFrame index.\n",
      "  \"\"\"Entry point for launching an IPython kernel.\n"
     ]
    },
    {
     "data": {
      "text/plain": [
       "(9, 28)"
      ]
     },
     "execution_count": 232,
     "metadata": {},
     "output_type": "execute_result"
    }
   ],
   "source": [
    "test_features_final[train_features_final['date_diff_order_begin']<0].shape"
   ]
  },
  {
   "cell_type": "code",
   "execution_count": null,
   "metadata": {},
   "outputs": [],
   "source": []
  },
  {
   "cell_type": "code",
   "execution_count": 98,
   "metadata": {},
   "outputs": [
    {
     "data": {
      "text/plain": [
       "OneHotEncoder(categorical_features='all', dtype=<class 'numpy.float64'>,\n",
       "       handle_unknown='ignore', n_values='auto', sparse=True)"
      ]
     },
     "execution_count": 98,
     "metadata": {},
     "output_type": "execute_result"
    }
   ],
   "source": [
    "# from sklearn.preprocessing import OneHotEncoder\n",
    "# dummy_coder = OneHotEncoder(handle_unknown='ignore')\n",
    "# dummy_coder.fit(df_predictors[['unit','area']])\n",
    "# dummy_coder.transform(df_predictors[['unit','area']].head()).toarray()"
   ]
  },
  {
   "cell_type": "code",
   "execution_count": 128,
   "metadata": {},
   "outputs": [],
   "source": [
    "one_hot_encoded_training_predictors = pd.get_dummies(train_features[['unit','area','sub_line']].astype(str))\n",
    "one_hot_encoded_test_predictors = pd.get_dummies(test_features[['unit','area','sub_line']].astype(str))\n",
    "final_train_c, final_test_c = one_hot_encoded_training_predictors.align(one_hot_encoded_test_predictors,\n",
    "                                                                    join='left', axis=1)\n",
    "final_train_c, final_test_c = final_train_c.fillna(0), final_test_c.fillna(0)"
   ]
  },
  {
   "cell_type": "code",
   "execution_count": null,
   "metadata": {},
   "outputs": [],
   "source": []
  },
  {
   "cell_type": "code",
   "execution_count": 118,
   "metadata": {},
   "outputs": [
    {
     "data": {
      "text/plain": [
       "(297020, (99895, 2))"
      ]
     },
     "execution_count": 118,
     "metadata": {},
     "output_type": "execute_result"
    }
   ],
   "source": [
    "len(train_features.order_id), test_data.shape"
   ]
  },
  {
   "cell_type": "code",
   "execution_count": 123,
   "metadata": {},
   "outputs": [
    {
     "data": {
      "text/plain": [
       "58588"
      ]
     },
     "execution_count": 123,
     "metadata": {},
     "output_type": "execute_result"
    }
   ],
   "source": [
    "train_features.deal_or_not.sum()"
   ]
  },
  {
   "cell_type": "code",
   "execution_count": 129,
   "metadata": {},
   "outputs": [],
   "source": [
    "from sklearn.linear_model import RidgeCV\n",
    "clf_ridge = RidgeCV(alphas=[1e-3, 1e-2, 1e-1, 1]).fit(final_train_c, train_features.deal_or_not)\n",
    "train_ridge_score = clf_ridge.predict(final_train_c) \n",
    "test_ridge_score = clf_ridge.predict(final_test_c) "
   ]
  },
  {
   "cell_type": "code",
   "execution_count": 167,
   "metadata": {
    "ExecuteTime": {
     "end_time": "2018-12-20T12:08:53.933697Z",
     "start_time": "2018-12-20T12:08:53.592987Z"
    }
   },
   "outputs": [],
   "source": [
    "# df_cate_dummy = pd.get_dummies(df_predictors[['unit','area']].astype(str))\n"
   ]
  },
  {
   "cell_type": "code",
   "execution_count": 90,
   "metadata": {},
   "outputs": [
    {
     "data": {
      "text/html": [
       "<div>\n",
       "<style scoped>\n",
       "    .dataframe tbody tr th:only-of-type {\n",
       "        vertical-align: middle;\n",
       "    }\n",
       "\n",
       "    .dataframe tbody tr th {\n",
       "        vertical-align: top;\n",
       "    }\n",
       "\n",
       "    .dataframe thead th {\n",
       "        text-align: right;\n",
       "    }\n",
       "</style>\n",
       "<table border=\"1\" class=\"dataframe\">\n",
       "  <thead>\n",
       "    <tr style=\"text-align: right;\">\n",
       "      <th></th>\n",
       "      <th>unit</th>\n",
       "      <th>area</th>\n",
       "    </tr>\n",
       "  </thead>\n",
       "  <tbody>\n",
       "    <tr>\n",
       "      <th>0</th>\n",
       "      <td>1</td>\n",
       "      <td>1</td>\n",
       "    </tr>\n",
       "    <tr>\n",
       "      <th>1</th>\n",
       "      <td>2</td>\n",
       "      <td>1</td>\n",
       "    </tr>\n",
       "    <tr>\n",
       "      <th>2</th>\n",
       "      <td>3</td>\n",
       "      <td>1</td>\n",
       "    </tr>\n",
       "    <tr>\n",
       "      <th>3</th>\n",
       "      <td>4</td>\n",
       "      <td>1</td>\n",
       "    </tr>\n",
       "    <tr>\n",
       "      <th>4</th>\n",
       "      <td>5</td>\n",
       "      <td>1</td>\n",
       "    </tr>\n",
       "  </tbody>\n",
       "</table>\n",
       "</div>"
      ],
      "text/plain": [
       "   unit area\n",
       "0     1    1\n",
       "1     2    1\n",
       "2     3    1\n",
       "3     4    1\n",
       "4     5    1"
      ]
     },
     "execution_count": 90,
     "metadata": {},
     "output_type": "execute_result"
    }
   ],
   "source": [
    "train_features[['unit','area']].head()"
   ]
  },
  {
   "cell_type": "code",
   "execution_count": 33,
   "metadata": {
    "ExecuteTime": {
     "end_time": "2018-12-20T12:08:54.582465Z",
     "start_time": "2018-12-20T12:08:54.458319Z"
    }
   },
   "outputs": [
    {
     "name": "stdout",
     "output_type": "stream",
     "text": [
      "<class 'pandas.core.frame.DataFrame'>\n",
      "Int64Index: 99895 entries, 0 to 99894\n",
      "Data columns (total 31 columns):\n",
      "order_id                 99895 non-null object\n",
      "group_id                 99895 non-null object\n",
      "source_1                 99895 non-null object\n",
      "source_2                 99895 non-null object\n",
      "unit                     99895 non-null int64\n",
      "people_amount            99895 non-null int64\n",
      "order_year               99895 non-null int64\n",
      "order_month              99895 non-null int64\n",
      "order_day                99895 non-null int64\n",
      "order_dayofyear          99895 non-null int64\n",
      "order_weekday            99895 non-null int64\n",
      "go_time                  99736 non-null float64\n",
      "back_time                99752 non-null float64\n",
      "go_route_num             99736 non-null float64\n",
      "back_route_num           99752 non-null float64\n",
      "sub_line                 99895 non-null object\n",
      "area                     99895 non-null object\n",
      "days                     99895 non-null float64\n",
      "price                    99895 non-null float64\n",
      "begin_year               99895 non-null int64\n",
      "begin_month              99895 non-null int64\n",
      "begin_day                99895 non-null int64\n",
      "begin_dayofyear          99895 non-null int64\n",
      "begin_weekday            99895 non-null int64\n",
      "end_year                 99895 non-null int64\n",
      "end_month                99895 non-null int64\n",
      "end_day                  99895 non-null int64\n",
      "end_dayofyear            99895 non-null int64\n",
      "end_weekday              99895 non-null int64\n",
      "date_diff_order_begin    99736 non-null float64\n",
      " deal_or_not             0 non-null float64\n",
      "dtypes: float64(8), int64(17), object(6)\n",
      "memory usage: 24.4+ MB\n"
     ]
    }
   ],
   "source": [
    "test_features.info()"
   ]
  },
  {
   "cell_type": "code",
   "execution_count": 35,
   "metadata": {
    "ExecuteTime": {
     "end_time": "2018-12-20T12:08:55.263871Z",
     "start_time": "2018-12-20T12:08:55.033036Z"
    }
   },
   "outputs": [],
   "source": [
    "train_features = train_features.dropna()  # TODO:  try to save more data !!!!!!!!!!!!!!!!!!!!!!!!!!!!!!!!!!!!!!!!!!!!!!!!!\n",
    "\n",
    "train_features_y = train_features['deal_or_not']\n",
    "train_features_X = train_features.drop(['order_id', 'group_id', 'deal_or_not'], axis=1)\n",
    "# TODO: make dummy variavbles!!!!!!!!!!!!!!!!!!!!!!!!!!!!!"
   ]
  },
  {
   "cell_type": "code",
   "execution_count": 37,
   "metadata": {
    "ExecuteTime": {
     "end_time": "2018-12-20T12:08:56.210279Z",
     "start_time": "2018-12-20T12:08:56.181822Z"
    }
   },
   "outputs": [
    {
     "data": {
      "text/html": [
       "<div>\n",
       "<style scoped>\n",
       "    .dataframe tbody tr th:only-of-type {\n",
       "        vertical-align: middle;\n",
       "    }\n",
       "\n",
       "    .dataframe tbody tr th {\n",
       "        vertical-align: top;\n",
       "    }\n",
       "\n",
       "    .dataframe thead th {\n",
       "        text-align: right;\n",
       "    }\n",
       "</style>\n",
       "<table border=\"1\" class=\"dataframe\">\n",
       "  <thead>\n",
       "    <tr style=\"text-align: right;\">\n",
       "      <th></th>\n",
       "      <th>source_1</th>\n",
       "      <th>source_2</th>\n",
       "      <th>unit</th>\n",
       "      <th>people_amount</th>\n",
       "      <th>order_year</th>\n",
       "      <th>order_month</th>\n",
       "      <th>order_day</th>\n",
       "      <th>order_dayofyear</th>\n",
       "      <th>order_weekday</th>\n",
       "      <th>go_time</th>\n",
       "      <th>back_time</th>\n",
       "      <th>go_route_num</th>\n",
       "      <th>back_route_num</th>\n",
       "      <th>sub_line</th>\n",
       "      <th>area</th>\n",
       "      <th>days</th>\n",
       "      <th>price</th>\n",
       "      <th>begin_year</th>\n",
       "      <th>begin_month</th>\n",
       "      <th>begin_day</th>\n",
       "      <th>begin_dayofyear</th>\n",
       "      <th>begin_weekday</th>\n",
       "      <th>end_year</th>\n",
       "      <th>end_month</th>\n",
       "      <th>end_day</th>\n",
       "      <th>end_dayofyear</th>\n",
       "      <th>end_weekday</th>\n",
       "      <th>date_diff_order_begin</th>\n",
       "    </tr>\n",
       "  </thead>\n",
       "  <tbody>\n",
       "    <tr>\n",
       "      <th>0</th>\n",
       "      <td>1</td>\n",
       "      <td>1</td>\n",
       "      <td>1</td>\n",
       "      <td>2</td>\n",
       "      <td>2017</td>\n",
       "      <td>1</td>\n",
       "      <td>5</td>\n",
       "      <td>5</td>\n",
       "      <td>3</td>\n",
       "      <td>525.0</td>\n",
       "      <td>930.0</td>\n",
       "      <td>1.0</td>\n",
       "      <td>1.0</td>\n",
       "      <td>1</td>\n",
       "      <td>1</td>\n",
       "      <td>12.0</td>\n",
       "      <td>106900.0</td>\n",
       "      <td>2017</td>\n",
       "      <td>3</td>\n",
       "      <td>22</td>\n",
       "      <td>81</td>\n",
       "      <td>2</td>\n",
       "      <td>2017</td>\n",
       "      <td>4</td>\n",
       "      <td>3</td>\n",
       "      <td>93</td>\n",
       "      <td>0</td>\n",
       "      <td>110850.0</td>\n",
       "    </tr>\n",
       "    <tr>\n",
       "      <th>1</th>\n",
       "      <td>1</td>\n",
       "      <td>1</td>\n",
       "      <td>2</td>\n",
       "      <td>1</td>\n",
       "      <td>2016</td>\n",
       "      <td>11</td>\n",
       "      <td>9</td>\n",
       "      <td>314</td>\n",
       "      <td>2</td>\n",
       "      <td>525.0</td>\n",
       "      <td>930.0</td>\n",
       "      <td>1.0</td>\n",
       "      <td>1.0</td>\n",
       "      <td>1</td>\n",
       "      <td>1</td>\n",
       "      <td>12.0</td>\n",
       "      <td>106900.0</td>\n",
       "      <td>2017</td>\n",
       "      <td>3</td>\n",
       "      <td>22</td>\n",
       "      <td>81</td>\n",
       "      <td>2</td>\n",
       "      <td>2017</td>\n",
       "      <td>4</td>\n",
       "      <td>3</td>\n",
       "      <td>93</td>\n",
       "      <td>0</td>\n",
       "      <td>192930.0</td>\n",
       "    </tr>\n",
       "    <tr>\n",
       "      <th>2</th>\n",
       "      <td>1</td>\n",
       "      <td>1</td>\n",
       "      <td>3</td>\n",
       "      <td>2</td>\n",
       "      <td>2017</td>\n",
       "      <td>1</td>\n",
       "      <td>20</td>\n",
       "      <td>20</td>\n",
       "      <td>4</td>\n",
       "      <td>525.0</td>\n",
       "      <td>930.0</td>\n",
       "      <td>1.0</td>\n",
       "      <td>1.0</td>\n",
       "      <td>1</td>\n",
       "      <td>1</td>\n",
       "      <td>12.0</td>\n",
       "      <td>106900.0</td>\n",
       "      <td>2017</td>\n",
       "      <td>3</td>\n",
       "      <td>22</td>\n",
       "      <td>81</td>\n",
       "      <td>2</td>\n",
       "      <td>2017</td>\n",
       "      <td>4</td>\n",
       "      <td>3</td>\n",
       "      <td>93</td>\n",
       "      <td>0</td>\n",
       "      <td>89250.0</td>\n",
       "    </tr>\n",
       "    <tr>\n",
       "      <th>3</th>\n",
       "      <td>1</td>\n",
       "      <td>1</td>\n",
       "      <td>4</td>\n",
       "      <td>4</td>\n",
       "      <td>2017</td>\n",
       "      <td>3</td>\n",
       "      <td>14</td>\n",
       "      <td>73</td>\n",
       "      <td>1</td>\n",
       "      <td>585.0</td>\n",
       "      <td>845.0</td>\n",
       "      <td>1.0</td>\n",
       "      <td>1.0</td>\n",
       "      <td>1</td>\n",
       "      <td>1</td>\n",
       "      <td>12.0</td>\n",
       "      <td>112900.0</td>\n",
       "      <td>2017</td>\n",
       "      <td>5</td>\n",
       "      <td>17</td>\n",
       "      <td>137</td>\n",
       "      <td>2</td>\n",
       "      <td>2017</td>\n",
       "      <td>5</td>\n",
       "      <td>29</td>\n",
       "      <td>149</td>\n",
       "      <td>0</td>\n",
       "      <td>93540.0</td>\n",
       "    </tr>\n",
       "    <tr>\n",
       "      <th>4</th>\n",
       "      <td>2</td>\n",
       "      <td>1</td>\n",
       "      <td>5</td>\n",
       "      <td>1</td>\n",
       "      <td>2017</td>\n",
       "      <td>3</td>\n",
       "      <td>27</td>\n",
       "      <td>86</td>\n",
       "      <td>0</td>\n",
       "      <td>585.0</td>\n",
       "      <td>845.0</td>\n",
       "      <td>1.0</td>\n",
       "      <td>1.0</td>\n",
       "      <td>1</td>\n",
       "      <td>1</td>\n",
       "      <td>12.0</td>\n",
       "      <td>112900.0</td>\n",
       "      <td>2017</td>\n",
       "      <td>5</td>\n",
       "      <td>17</td>\n",
       "      <td>137</td>\n",
       "      <td>2</td>\n",
       "      <td>2017</td>\n",
       "      <td>5</td>\n",
       "      <td>29</td>\n",
       "      <td>149</td>\n",
       "      <td>0</td>\n",
       "      <td>74820.0</td>\n",
       "    </tr>\n",
       "    <tr>\n",
       "      <th>5</th>\n",
       "      <td>2</td>\n",
       "      <td>2</td>\n",
       "      <td>6</td>\n",
       "      <td>2</td>\n",
       "      <td>2017</td>\n",
       "      <td>4</td>\n",
       "      <td>19</td>\n",
       "      <td>109</td>\n",
       "      <td>2</td>\n",
       "      <td>585.0</td>\n",
       "      <td>845.0</td>\n",
       "      <td>1.0</td>\n",
       "      <td>1.0</td>\n",
       "      <td>1</td>\n",
       "      <td>1</td>\n",
       "      <td>12.0</td>\n",
       "      <td>112900.0</td>\n",
       "      <td>2017</td>\n",
       "      <td>5</td>\n",
       "      <td>17</td>\n",
       "      <td>137</td>\n",
       "      <td>2</td>\n",
       "      <td>2017</td>\n",
       "      <td>5</td>\n",
       "      <td>29</td>\n",
       "      <td>149</td>\n",
       "      <td>0</td>\n",
       "      <td>41700.0</td>\n",
       "    </tr>\n",
       "    <tr>\n",
       "      <th>6</th>\n",
       "      <td>2</td>\n",
       "      <td>2</td>\n",
       "      <td>6</td>\n",
       "      <td>2</td>\n",
       "      <td>2017</td>\n",
       "      <td>4</td>\n",
       "      <td>19</td>\n",
       "      <td>109</td>\n",
       "      <td>2</td>\n",
       "      <td>585.0</td>\n",
       "      <td>845.0</td>\n",
       "      <td>1.0</td>\n",
       "      <td>1.0</td>\n",
       "      <td>1</td>\n",
       "      <td>1</td>\n",
       "      <td>12.0</td>\n",
       "      <td>112900.0</td>\n",
       "      <td>2017</td>\n",
       "      <td>5</td>\n",
       "      <td>17</td>\n",
       "      <td>137</td>\n",
       "      <td>2</td>\n",
       "      <td>2017</td>\n",
       "      <td>5</td>\n",
       "      <td>29</td>\n",
       "      <td>149</td>\n",
       "      <td>0</td>\n",
       "      <td>41700.0</td>\n",
       "    </tr>\n",
       "    <tr>\n",
       "      <th>7</th>\n",
       "      <td>1</td>\n",
       "      <td>1</td>\n",
       "      <td>7</td>\n",
       "      <td>6</td>\n",
       "      <td>2017</td>\n",
       "      <td>1</td>\n",
       "      <td>20</td>\n",
       "      <td>20</td>\n",
       "      <td>4</td>\n",
       "      <td>525.0</td>\n",
       "      <td>930.0</td>\n",
       "      <td>1.0</td>\n",
       "      <td>1.0</td>\n",
       "      <td>1</td>\n",
       "      <td>1</td>\n",
       "      <td>12.0</td>\n",
       "      <td>115900.0</td>\n",
       "      <td>2017</td>\n",
       "      <td>6</td>\n",
       "      <td>21</td>\n",
       "      <td>172</td>\n",
       "      <td>2</td>\n",
       "      <td>2017</td>\n",
       "      <td>7</td>\n",
       "      <td>3</td>\n",
       "      <td>184</td>\n",
       "      <td>0</td>\n",
       "      <td>220290.0</td>\n",
       "    </tr>\n",
       "    <tr>\n",
       "      <th>8</th>\n",
       "      <td>2</td>\n",
       "      <td>3</td>\n",
       "      <td>6</td>\n",
       "      <td>2</td>\n",
       "      <td>2017</td>\n",
       "      <td>5</td>\n",
       "      <td>8</td>\n",
       "      <td>128</td>\n",
       "      <td>0</td>\n",
       "      <td>525.0</td>\n",
       "      <td>930.0</td>\n",
       "      <td>1.0</td>\n",
       "      <td>1.0</td>\n",
       "      <td>1</td>\n",
       "      <td>1</td>\n",
       "      <td>12.0</td>\n",
       "      <td>115900.0</td>\n",
       "      <td>2017</td>\n",
       "      <td>6</td>\n",
       "      <td>21</td>\n",
       "      <td>172</td>\n",
       "      <td>2</td>\n",
       "      <td>2017</td>\n",
       "      <td>7</td>\n",
       "      <td>3</td>\n",
       "      <td>184</td>\n",
       "      <td>0</td>\n",
       "      <td>64770.0</td>\n",
       "    </tr>\n",
       "    <tr>\n",
       "      <th>9</th>\n",
       "      <td>1</td>\n",
       "      <td>1</td>\n",
       "      <td>8</td>\n",
       "      <td>2</td>\n",
       "      <td>2017</td>\n",
       "      <td>5</td>\n",
       "      <td>8</td>\n",
       "      <td>128</td>\n",
       "      <td>0</td>\n",
       "      <td>525.0</td>\n",
       "      <td>930.0</td>\n",
       "      <td>1.0</td>\n",
       "      <td>1.0</td>\n",
       "      <td>1</td>\n",
       "      <td>1</td>\n",
       "      <td>12.0</td>\n",
       "      <td>115900.0</td>\n",
       "      <td>2017</td>\n",
       "      <td>6</td>\n",
       "      <td>21</td>\n",
       "      <td>172</td>\n",
       "      <td>2</td>\n",
       "      <td>2017</td>\n",
       "      <td>7</td>\n",
       "      <td>3</td>\n",
       "      <td>184</td>\n",
       "      <td>0</td>\n",
       "      <td>64770.0</td>\n",
       "    </tr>\n",
       "  </tbody>\n",
       "</table>\n",
       "</div>"
      ],
      "text/plain": [
       "  source_1 source_2  unit  people_amount  order_year  order_month  order_day  \\\n",
       "0        1        1     1              2        2017            1          5   \n",
       "1        1        1     2              1        2016           11          9   \n",
       "2        1        1     3              2        2017            1         20   \n",
       "3        1        1     4              4        2017            3         14   \n",
       "4        2        1     5              1        2017            3         27   \n",
       "5        2        2     6              2        2017            4         19   \n",
       "6        2        2     6              2        2017            4         19   \n",
       "7        1        1     7              6        2017            1         20   \n",
       "8        2        3     6              2        2017            5          8   \n",
       "9        1        1     8              2        2017            5          8   \n",
       "\n",
       "   order_dayofyear  order_weekday  go_time  back_time  go_route_num  \\\n",
       "0                5              3    525.0      930.0           1.0   \n",
       "1              314              2    525.0      930.0           1.0   \n",
       "2               20              4    525.0      930.0           1.0   \n",
       "3               73              1    585.0      845.0           1.0   \n",
       "4               86              0    585.0      845.0           1.0   \n",
       "5              109              2    585.0      845.0           1.0   \n",
       "6              109              2    585.0      845.0           1.0   \n",
       "7               20              4    525.0      930.0           1.0   \n",
       "8              128              0    525.0      930.0           1.0   \n",
       "9              128              0    525.0      930.0           1.0   \n",
       "\n",
       "   back_route_num sub_line area  days     price  begin_year  begin_month  \\\n",
       "0             1.0        1    1  12.0  106900.0        2017            3   \n",
       "1             1.0        1    1  12.0  106900.0        2017            3   \n",
       "2             1.0        1    1  12.0  106900.0        2017            3   \n",
       "3             1.0        1    1  12.0  112900.0        2017            5   \n",
       "4             1.0        1    1  12.0  112900.0        2017            5   \n",
       "5             1.0        1    1  12.0  112900.0        2017            5   \n",
       "6             1.0        1    1  12.0  112900.0        2017            5   \n",
       "7             1.0        1    1  12.0  115900.0        2017            6   \n",
       "8             1.0        1    1  12.0  115900.0        2017            6   \n",
       "9             1.0        1    1  12.0  115900.0        2017            6   \n",
       "\n",
       "   begin_day  begin_dayofyear  begin_weekday  end_year  end_month  end_day  \\\n",
       "0         22               81              2      2017          4        3   \n",
       "1         22               81              2      2017          4        3   \n",
       "2         22               81              2      2017          4        3   \n",
       "3         17              137              2      2017          5       29   \n",
       "4         17              137              2      2017          5       29   \n",
       "5         17              137              2      2017          5       29   \n",
       "6         17              137              2      2017          5       29   \n",
       "7         21              172              2      2017          7        3   \n",
       "8         21              172              2      2017          7        3   \n",
       "9         21              172              2      2017          7        3   \n",
       "\n",
       "   end_dayofyear  end_weekday  date_diff_order_begin  \n",
       "0             93            0               110850.0  \n",
       "1             93            0               192930.0  \n",
       "2             93            0                89250.0  \n",
       "3            149            0                93540.0  \n",
       "4            149            0                74820.0  \n",
       "5            149            0                41700.0  \n",
       "6            149            0                41700.0  \n",
       "7            184            0               220290.0  \n",
       "8            184            0                64770.0  \n",
       "9            184            0                64770.0  "
      ]
     },
     "execution_count": 37,
     "metadata": {},
     "output_type": "execute_result"
    }
   ],
   "source": [
    "train_features_X.head(10)"
   ]
  },
  {
   "cell_type": "code",
   "execution_count": 38,
   "metadata": {
    "ExecuteTime": {
     "end_time": "2018-12-20T12:08:56.833095Z",
     "start_time": "2018-12-20T12:08:56.825281Z"
    }
   },
   "outputs": [
    {
     "data": {
      "text/plain": [
       "0    237521\n",
       "1     58477\n",
       "Name: deal_or_not, dtype: int64"
      ]
     },
     "execution_count": 38,
     "metadata": {},
     "output_type": "execute_result"
    }
   ],
   "source": [
    "train_features_y.value_counts()"
   ]
  },
  {
   "cell_type": "code",
   "execution_count": null,
   "metadata": {
    "ExecuteTime": {
     "end_time": "2018-12-20T12:08:57.601775Z",
     "start_time": "2018-12-20T12:08:57.577518Z"
    }
   },
   "outputs": [],
   "source": []
  },
  {
   "cell_type": "code",
   "execution_count": null,
   "metadata": {},
   "outputs": [],
   "source": []
  },
  {
   "cell_type": "code",
   "execution_count": null,
   "metadata": {},
   "outputs": [],
   "source": []
  },
  {
   "cell_type": "code",
   "execution_count": null,
   "metadata": {},
   "outputs": [],
   "source": []
  },
  {
   "cell_type": "code",
   "execution_count": 24,
   "metadata": {
    "ExecuteTime": {
     "end_time": "2018-12-20T12:08:58.148509Z",
     "start_time": "2018-12-20T12:08:58.143976Z"
    }
   },
   "outputs": [
    {
     "data": {
      "text/plain": [
       "\"\\n## 未来 TODO\\n\\n原始資料  group_id' == '63695'  是有去回程時間\\n但最後的加工&merge結果\\u3000變成null\\n我們之後有時間可以研究看看是哪個還節\\n\""
      ]
     },
     "execution_count": 24,
     "metadata": {},
     "output_type": "execute_result"
    }
   ],
   "source": [
    "'''\n",
    "## 未来 TODO\n",
    "\n",
    "原始資料  group_id' == '63695'  是有去回程時間\n",
    "但最後的加工&merge結果　變成null\n",
    "我們之後有時間可以研究看看是哪個還節\n",
    "'''"
   ]
  },
  {
   "cell_type": "code",
   "execution_count": 25,
   "metadata": {
    "ExecuteTime": {
     "end_time": "2018-12-20T12:08:58.733350Z",
     "start_time": "2018-12-20T12:08:58.729603Z"
    }
   },
   "outputs": [
    {
     "data": {
      "text/plain": [
       "'\\nTODO: \\n\\nscaling\\n\\n'"
      ]
     },
     "execution_count": 25,
     "metadata": {},
     "output_type": "execute_result"
    }
   ],
   "source": [
    "'''\n",
    "TODO: \n",
    "\n",
    "scaling\n",
    "\n",
    "'''"
   ]
  },
  {
   "cell_type": "markdown",
   "metadata": {},
   "source": [
    "## Model: XgBoost"
   ]
  },
  {
   "cell_type": "code",
   "execution_count": 47,
   "metadata": {
    "ExecuteTime": {
     "end_time": "2018-12-20T12:15:07.056943Z",
     "start_time": "2018-12-20T12:15:06.496207Z"
    }
   },
   "outputs": [],
   "source": [
    "import xgboost as xgb"
   ]
  },
  {
   "cell_type": "code",
   "execution_count": null,
   "metadata": {
    "ExecuteTime": {
     "start_time": "2018-12-20T12:15:55.416Z"
    }
   },
   "outputs": [],
   "source": [
    "# # dummy化\n",
    "# df_predictors_dummy = pd.get_dummies(df_predictors)\n",
    "\n",
    "\n",
    "# # seperate into train and test features\n",
    "# train_features_dummy = pd.merge(df_predictors_dummy, train_data, on='order_id', how='inner') \n",
    "# test_features_dummy = pd.merge(df_predictors_dummy, test_data, on='order_id', how='inner')\n",
    "\n",
    "\n",
    "# # train features: drop nulls\n",
    "# train_features_dummy = train_features_dummy.dropna()  # TODO:  try to save more data !!!!!!!!!!!!!!!!!!!!!!!!!!!!!!!!!!!!!!!!!!!!!!!!!\n",
    "\n",
    "# train_features_y_dummy = train_features_dummy['deal_or_not']\n",
    "# train_features_X_dummy = train_features_dummy.drop(['order_id', 'group_id', 'begin_date', 'deal_or_not'], axis=1)\n",
    "\n",
    "\n",
    "# # test features: fill nulls with 0 \n",
    "# test_features_X_dummy = test_features_dummy.fillna(0)   ## TODO:  fillna考慮 !!!!!!!!!!!!!!!!!!!!!!!!!!!!!!!!!!!!!!!!!!!!!!!!!!!!\n",
    "# test_features_X_dummy = test_features_dummy.drop(['order_id', 'group_id', 'begin_date', ' deal_or_not'], axis=1)\n",
    "\n",
    "\n",
    "# X_train_dummy, X_test_dummy, y_train_dummy, y_test_dummy = train_test_split(train_features_dummy, \n",
    "#                                                     train_features_y_dummy, \n",
    "#                                                     test_size = 0.33, \n",
    "#                                                     random_state = 0)\n"
   ]
  },
  {
   "cell_type": "code",
   "execution_count": null,
   "metadata": {},
   "outputs": [],
   "source": [
    "# make all categorical data astype int \n",
    "X_train['source_1'] = X_train['source_1'].astype(int)\n",
    "X_train['source_2'] = X_train['source_2'].astype(int)\n",
    "X_test['source_1'] = X_test['source_1'].astype(int)\n",
    "X_test['source_2'] = X_test['source_2'].astype(int)\n",
    "# ignore the warning!"
   ]
  },
  {
   "cell_type": "code",
   "execution_count": null,
   "metadata": {},
   "outputs": [],
   "source": []
  },
  {
   "cell_type": "code",
   "execution_count": null,
   "metadata": {},
   "outputs": [],
   "source": []
  },
  {
   "cell_type": "code",
   "execution_count": 67,
   "metadata": {
    "ExecuteTime": {
     "end_time": "2018-12-20T11:45:27.277254Z",
     "start_time": "2018-12-20T11:45:17.113355Z"
    }
   },
   "outputs": [
    {
     "data": {
      "text/plain": [
       "XGBClassifier(base_score=0.5, booster='gbtree', colsample_bylevel=1,\n",
       "       colsample_bytree=1, gamma=0, learning_rate=0.1, max_delta_step=0,\n",
       "       max_depth=3, min_child_weight=1, missing=None, n_estimators=100,\n",
       "       n_jobs=1, nthread=None, objective='binary:logistic', random_state=0,\n",
       "       reg_alpha=0, reg_lambda=1, scale_pos_weight=1, seed=None,\n",
       "       silent=True, subsample=1)"
      ]
     },
     "execution_count": 67,
     "metadata": {},
     "output_type": "execute_result"
    }
   ],
   "source": [
    "xgb_model = xgb.XGBClassifier()\n",
    "xgb_model.fit(X_train, y_train)"
   ]
  },
  {
   "cell_type": "code",
   "execution_count": 76,
   "metadata": {
    "ExecuteTime": {
     "end_time": "2018-12-20T11:45:30.557286Z",
     "start_time": "2018-12-20T11:45:30.510887Z"
    }
   },
   "outputs": [
    {
     "name": "stderr",
     "output_type": "stream",
     "text": [
      "/anaconda3/lib/python3.6/site-packages/sklearn/preprocessing/label.py:151: DeprecationWarning: The truth value of an empty array is ambiguous. Returning False, but in future this will result in an error. Use `array.size > 0` to check that an array is not empty.\n",
      "  if diff:\n"
     ]
    }
   ],
   "source": [
    "xgb_predictions = xgb_model.predict(X_test)"
   ]
  },
  {
   "cell_type": "code",
   "execution_count": 79,
   "metadata": {},
   "outputs": [
    {
     "name": "stdout",
     "output_type": "stream",
     "text": [
      "\n",
      "Optimized Model\n",
      "------\n",
      "Final accuracy score on the testing data: 0.8181\n",
      "Final precision score on the testing data: 0.9517\n",
      "Final recall score on the testing data: 0.0904\n",
      "Final F-score on the testing data: 0.3276\n"
     ]
    },
    {
     "data": {
      "text/plain": [
       "<matplotlib.axes._subplots.AxesSubplot at 0x110edf278>"
      ]
     },
     "execution_count": 79,
     "metadata": {},
     "output_type": "execute_result"
    },
    {
     "data": {
      "image/png": "[encoded data removed]",
      "text/plain": [
       "<matplotlib.figure.Figure at 0x110ecfc50>"
      ]
     },
     "metadata": {},
     "output_type": "display_data"
    }
   ],
   "source": [
    "# Report the before-and-afterscores\n",
    "print(\"\\nOptimized Model\\n------\")\n",
    "print(\"Final accuracy score on the testing data: {:.4f}\".format(accuracy_score(y_test, xgb_predictions)))\n",
    "print(\"Final precision score on the testing data: {:.4f}\".format(precision_score(y_test, xgb_predictions)))\n",
    "print(\"Final recall score on the testing data: {:.4f}\".format(recall_score(y_test, xgb_predictions)))\n",
    "print(\"Final F-score on the testing data: {:.4f}\".format(fbeta_score(y_test, xgb_predictions, beta = 0.5)))\n",
    "\n",
    "\n",
    "\n",
    "from sklearn.metrics import confusion_matrix\n",
    "import seaborn as sns\n",
    "%matplotlib inline\n",
    "sns.heatmap(confusion_matrix(y_test, xgb_predictions), annot = True, fmt = '')"
   ]
  },
  {
   "cell_type": "code",
   "execution_count": 91,
   "metadata": {
    "ExecuteTime": {
     "end_time": "2018-12-20T11:45:53.771738Z",
     "start_time": "2018-12-20T11:45:53.574266Z"
    }
   },
   "outputs": [
    {
     "name": "stdout",
     "output_type": "stream",
     "text": [
      "\n",
      "Optimized Model\n",
      "------\n",
      "Final accuracy score on the testing data: 0.8263\n",
      "Final precision score on the testing data: 0.9514\n",
      "Final recall score on the testing data: 0.1024\n",
      "Final F-score on the testing data: 0.3579\n"
     ]
    },
    {
     "data": {
      "text/plain": [
       "<matplotlib.axes._subplots.AxesSubplot at 0x129e3a908>"
      ]
     },
     "execution_count": 91,
     "metadata": {},
     "output_type": "execute_result"
    },
    {
     "data": {
      "image/png": "[encoded data removed]",
      "text/plain": [
       "<Figure size 432x288 with 2 Axes>"
      ]
     },
     "metadata": {
      "needs_background": "light"
     },
     "output_type": "display_data"
    }
   ],
   "source": [
    "# Report the before-and-afterscores\n",
    "print(\"\\nOptimized Model\\n------\")\n",
    "print(\"Final accuracy score on the testing data: {:.4f}\".format(accuracy_score(y_test_dummy, xgb_predictions)))\n",
    "print(\"Final precision score on the testing data: {:.4f}\".format(precision_score(y_test_dummy, xgb_predictions)))\n",
    "print(\"Final recall score on the testing data: {:.4f}\".format(recall_score(y_test_dummy, xgb_predictions)))\n",
    "print(\"Final F-score on the testing data: {:.4f}\".format(fbeta_score(y_test_dummy, xgb_predictions, beta = 0.5)))\n",
    "\n",
    "\n",
    "\n",
    "from sklearn.metrics import confusion_matrix\n",
    "import seaborn as sns\n",
    "%matplotlib inline\n",
    "sns.heatmap(confusion_matrix(y_test_dummy, xgb_predictions), annot = True, fmt = '')"
   ]
  },
  {
   "cell_type": "code",
   "execution_count": null,
   "metadata": {
    "ExecuteTime": {
     "end_time": "2018-12-20T11:53:31.392756Z",
     "start_time": "2018-12-20T11:53:30.577121Z"
    }
   },
   "outputs": [],
   "source": [
    "xgb_results = pd.DataFrame(data={'order_id': test_features['order_id'], 'deal_or_not' : xgb_model.predict(test_features_X_dummy)})\n",
    "xgb_results.to_csv('xgb_results.csv', index=False)"
   ]
  },
  {
   "cell_type": "code",
   "execution_count": null,
   "metadata": {},
   "outputs": [],
   "source": []
  }
 ],
 "metadata": {
  "kernelspec": {
   "display_name": "Python 3",
   "language": "python",
   "name": "python3"
  },
  "language_info": {
   "codemirror_mode": {
    "name": "ipython",
    "version": 3
   },
   "file_extension": ".py",
   "mimetype": "text/x-python",
   "name": "python",
   "nbconvert_exporter": "python",
   "pygments_lexer": "ipython3",
   "version": "3.6.4"
  },
  "toc": {
   "base_numbering": 1,
   "nav_menu": {},
   "number_sections": true,
   "sideBar": true,
   "skip_h1_title": false,
   "title_cell": "Table of Contents",
   "title_sidebar": "Contents",
   "toc_cell": false,
   "toc_position": {},
   "toc_section_display": true,
   "toc_window_display": false
  },
  "varInspector": {
   "cols": {
    "lenName": 16,
    "lenType": 16,
    "lenVar": 40
   },
   "kernels_config": {
    "python": {
     "delete_cmd_postfix": "",
     "delete_cmd_prefix": "del ",
     "library": "var_list.py",
     "varRefreshCmd": "print(var_dic_list())"
    },
    "r": {
     "delete_cmd_postfix": ") ",
     "delete_cmd_prefix": "rm(",
     "library": "var_list.r",
     "varRefreshCmd": "cat(var_dic_list()) "
    }
   },
   "types_to_exclude": [
    "module",
    "function",
    "builtin_function_or_method",
    "instance",
    "_Feature"
   ],
   "window_display": false
  }
 },
 "nbformat": 4,
 "nbformat_minor": 2
}
