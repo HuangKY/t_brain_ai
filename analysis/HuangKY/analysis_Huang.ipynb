{
 "cells": [
  {
   "cell_type": "markdown",
   "metadata": {
    "ExecuteTime": {
     "end_time": "2018-12-03T12:02:29.677080Z",
     "start_time": "2018-12-03T12:02:29.674535Z"
    }
   },
   "source": [
    "# Preprocessing"
   ]
  },
  {
   "cell_type": "code",
   "execution_count": 1,
   "metadata": {
    "ExecuteTime": {
     "end_time": "2018-12-05T12:58:38.664329Z",
     "start_time": "2018-12-05T12:58:37.920990Z"
    }
   },
   "outputs": [],
   "source": [
    "# impirt important packages\n",
    "import pandas as pd\n",
    "import numpy as np\n",
    "import matplotlib.pyplot as plt"
   ]
  },
  {
   "cell_type": "code",
   "execution_count": 2,
   "metadata": {
    "ExecuteTime": {
     "end_time": "2018-12-05T12:58:40.862239Z",
     "start_time": "2018-12-05T12:58:38.671858Z"
    }
   },
   "outputs": [
    {
     "name": "stdout",
     "output_type": "stream",
     "text": [
      "\n",
      " \n",
      "  !!!!!!!!!!!!!!!!!!!!!!!!!!!!  警告  !!!!!!!!!!!!!!!!!!!!!!!!　\n",
      "  \n",
      "  lion_cache data is ignored temporarily. \n",
      " \n",
      " \n"
     ]
    },
    {
     "name": "stderr",
     "output_type": "stream",
     "text": [
      "/Users/kuanyao.huang/.pyenv/versions/miniconda3-4.3.30/lib/python3.6/site-packages/IPython/core/interactiveshell.py:2785: DtypeWarning: Columns (0,1) have mixed types. Specify dtype option on import or set low_memory=False.\n",
      "  interactivity=interactivity, compiler=compiler, result=result)\n"
     ]
    }
   ],
   "source": [
    "# read data\n",
    "airline_data = pd.read_csv('../../data/dataset/airline.csv')\n",
    "cache_map_data = pd.read_csv('../../data/dataset/cache_map.csv')\n",
    "group_data = pd.read_csv('../../data/dataset/group.csv')\n",
    "order_data = pd.read_csv('../../data/dataset/order.csv')\n",
    "\n",
    "# lion_cache 保留\n",
    "print('\\n \\n  !!!!!!!!!!!!!!!!!!!!!!!!!!!!  警告  !!!!!!!!!!!!!!!!!!!!!!!!　\\n  \\n  lion_cache data is ignored temporarily. \\n \\n ')\n",
    "\n",
    "# test and train data\n",
    "train_data = pd.read_csv('../../data/training-set.csv')\n",
    "test_data = pd.read_csv('../../data/testing-set.csv')"
   ]
  },
  {
   "cell_type": "markdown",
   "metadata": {},
   "source": [
    "## have a look of each dataset"
   ]
  },
  {
   "cell_type": "markdown",
   "metadata": {},
   "source": [
    "### airline_data"
   ]
  },
  {
   "cell_type": "code",
   "execution_count": 3,
   "metadata": {
    "ExecuteTime": {
     "end_time": "2018-12-05T12:58:42.283734Z",
     "start_time": "2018-12-05T12:58:42.267547Z"
    }
   },
   "outputs": [
    {
     "data": {
      "text/html": [
       "<div>\n",
       "<style scoped>\n",
       "    .dataframe tbody tr th:only-of-type {\n",
       "        vertical-align: middle;\n",
       "    }\n",
       "\n",
       "    .dataframe tbody tr th {\n",
       "        vertical-align: top;\n",
       "    }\n",
       "\n",
       "    .dataframe thead th {\n",
       "        text-align: right;\n",
       "    }\n",
       "</style>\n",
       "<table border=\"1\" class=\"dataframe\">\n",
       "  <thead>\n",
       "    <tr style=\"text-align: right;\">\n",
       "      <th></th>\n",
       "      <th>group_id</th>\n",
       "      <th>go_back</th>\n",
       "      <th>fly_time</th>\n",
       "      <th>src_airport</th>\n",
       "      <th>arrive_time</th>\n",
       "      <th>dst_airport</th>\n",
       "    </tr>\n",
       "  </thead>\n",
       "  <tbody>\n",
       "    <tr>\n",
       "      <th>0</th>\n",
       "      <td>63695</td>\n",
       "      <td>去程</td>\n",
       "      <td>2017/3/22 23:30</td>\n",
       "      <td>TPE 桃園機場</td>\n",
       "      <td>2017/3/22 14:15</td>\n",
       "      <td>HNL 檀香山機場</td>\n",
       "    </tr>\n",
       "    <tr>\n",
       "      <th>1</th>\n",
       "      <td>63695</td>\n",
       "      <td>回程</td>\n",
       "      <td>2017/4/1 14:30</td>\n",
       "      <td>LAX 洛杉機機場</td>\n",
       "      <td>2017/4/2 21:00</td>\n",
       "      <td>TPE 桃園機場</td>\n",
       "    </tr>\n",
       "    <tr>\n",
       "      <th>2</th>\n",
       "      <td>53481</td>\n",
       "      <td>去程</td>\n",
       "      <td>2017/5/17 23:00</td>\n",
       "      <td>TPE 桃園機場</td>\n",
       "      <td>2017/5/17 14:45</td>\n",
       "      <td>HNL 檀香山機場</td>\n",
       "    </tr>\n",
       "    <tr>\n",
       "      <th>3</th>\n",
       "      <td>53481</td>\n",
       "      <td>回程</td>\n",
       "      <td>2017/5/27 16:00</td>\n",
       "      <td>LAX 洛杉機機場</td>\n",
       "      <td>2017/5/28 21:05</td>\n",
       "      <td>TPE 桃園機場</td>\n",
       "    </tr>\n",
       "    <tr>\n",
       "      <th>4</th>\n",
       "      <td>54305</td>\n",
       "      <td>去程</td>\n",
       "      <td>2017/6/21 23:30</td>\n",
       "      <td>TPE 桃園機場</td>\n",
       "      <td>2017/6/21 14:15</td>\n",
       "      <td>HNL 檀香山機場</td>\n",
       "    </tr>\n",
       "  </tbody>\n",
       "</table>\n",
       "</div>"
      ],
      "text/plain": [
       "  group_id go_back         fly_time src_airport      arrive_time dst_airport\n",
       "0    63695      去程  2017/3/22 23:30    TPE 桃園機場  2017/3/22 14:15   HNL 檀香山機場\n",
       "1    63695      回程   2017/4/1 14:30   LAX 洛杉機機場   2017/4/2 21:00    TPE 桃園機場\n",
       "2    53481      去程  2017/5/17 23:00    TPE 桃園機場  2017/5/17 14:45   HNL 檀香山機場\n",
       "3    53481      回程  2017/5/27 16:00   LAX 洛杉機機場  2017/5/28 21:05    TPE 桃園機場\n",
       "4    54305      去程  2017/6/21 23:30    TPE 桃園機場  2017/6/21 14:15   HNL 檀香山機場"
      ]
     },
     "execution_count": 3,
     "metadata": {},
     "output_type": "execute_result"
    }
   ],
   "source": [
    "airline_data.head(5)"
   ]
  },
  {
   "cell_type": "code",
   "execution_count": 14,
   "metadata": {
    "ExecuteTime": {
     "end_time": "2018-12-05T13:00:05.762141Z",
     "start_time": "2018-12-05T13:00:05.514176Z"
    }
   },
   "outputs": [
    {
     "data": {
      "text/html": [
       "<div>\n",
       "<style scoped>\n",
       "    .dataframe tbody tr th:only-of-type {\n",
       "        vertical-align: middle;\n",
       "    }\n",
       "\n",
       "    .dataframe tbody tr th {\n",
       "        vertical-align: top;\n",
       "    }\n",
       "\n",
       "    .dataframe thead th {\n",
       "        text-align: right;\n",
       "    }\n",
       "</style>\n",
       "<table border=\"1\" class=\"dataframe\">\n",
       "  <thead>\n",
       "    <tr style=\"text-align: right;\">\n",
       "      <th></th>\n",
       "      <th>group_id</th>\n",
       "      <th>go_back</th>\n",
       "      <th>fly_time</th>\n",
       "      <th>src_airport</th>\n",
       "      <th>arrive_time</th>\n",
       "      <th>dst_airport</th>\n",
       "    </tr>\n",
       "  </thead>\n",
       "  <tbody>\n",
       "    <tr>\n",
       "      <th>count</th>\n",
       "      <td>104275</td>\n",
       "      <td>104275</td>\n",
       "      <td>104275</td>\n",
       "      <td>104275</td>\n",
       "      <td>104275</td>\n",
       "      <td>104275</td>\n",
       "    </tr>\n",
       "    <tr>\n",
       "      <th>unique</th>\n",
       "      <td>48796</td>\n",
       "      <td>2</td>\n",
       "      <td>60216</td>\n",
       "      <td>204</td>\n",
       "      <td>60377</td>\n",
       "      <td>207</td>\n",
       "    </tr>\n",
       "    <tr>\n",
       "      <th>top</th>\n",
       "      <td>9bcb042a7052030d5c8b27bf50cacaea</td>\n",
       "      <td>去程</td>\n",
       "      <td>2017/1/31 22:05</td>\n",
       "      <td>TPE 桃園機場</td>\n",
       "      <td>2018/2/17 11:15</td>\n",
       "      <td>TPE 桃園機場</td>\n",
       "    </tr>\n",
       "    <tr>\n",
       "      <th>freq</th>\n",
       "      <td>8</td>\n",
       "      <td>52223</td>\n",
       "      <td>10</td>\n",
       "      <td>40984</td>\n",
       "      <td>10</td>\n",
       "      <td>41125</td>\n",
       "    </tr>\n",
       "  </tbody>\n",
       "</table>\n",
       "</div>"
      ],
      "text/plain": [
       "                                group_id go_back         fly_time src_airport  \\\n",
       "count                             104275  104275           104275      104275   \n",
       "unique                             48796       2            60216         204   \n",
       "top     9bcb042a7052030d5c8b27bf50cacaea      去程  2017/1/31 22:05    TPE 桃園機場   \n",
       "freq                                   8   52223               10       40984   \n",
       "\n",
       "            arrive_time dst_airport  \n",
       "count            104275      104275  \n",
       "unique            60377         207  \n",
       "top     2018/2/17 11:15    TPE 桃園機場  \n",
       "freq                 10       41125  "
      ]
     },
     "execution_count": 14,
     "metadata": {},
     "output_type": "execute_result"
    }
   ],
   "source": [
    "airline_data.describe()"
   ]
  },
  {
   "cell_type": "code",
   "execution_count": 16,
   "metadata": {
    "ExecuteTime": {
     "end_time": "2018-12-05T13:00:20.992790Z",
     "start_time": "2018-12-05T13:00:20.943513Z"
    }
   },
   "outputs": [
    {
     "name": "stdout",
     "output_type": "stream",
     "text": [
      "<class 'pandas.core.frame.DataFrame'>\n",
      "RangeIndex: 104275 entries, 0 to 104274\n",
      "Data columns (total 6 columns):\n",
      "group_id       104275 non-null object\n",
      "go_back        104275 non-null object\n",
      "fly_time       104275 non-null object\n",
      "src_airport    104275 non-null object\n",
      "arrive_time    104275 non-null object\n",
      "dst_airport    104275 non-null object\n",
      "dtypes: object(6)\n",
      "memory usage: 4.8+ MB\n"
     ]
    }
   ],
   "source": [
    "airline_data.info()"
   ]
  },
  {
   "cell_type": "markdown",
   "metadata": {},
   "source": [
    "### cache_map"
   ]
  },
  {
   "cell_type": "code",
   "execution_count": 4,
   "metadata": {
    "ExecuteTime": {
     "end_time": "2018-12-05T12:58:42.983670Z",
     "start_time": "2018-12-05T12:58:42.975166Z"
    }
   },
   "outputs": [
    {
     "data": {
      "text/html": [
       "<div>\n",
       "<style scoped>\n",
       "    .dataframe tbody tr th:only-of-type {\n",
       "        vertical-align: middle;\n",
       "    }\n",
       "\n",
       "    .dataframe tbody tr th {\n",
       "        vertical-align: top;\n",
       "    }\n",
       "\n",
       "    .dataframe thead th {\n",
       "        text-align: right;\n",
       "    }\n",
       "</style>\n",
       "<table border=\"1\" class=\"dataframe\">\n",
       "  <thead>\n",
       "    <tr style=\"text-align: right;\">\n",
       "      <th></th>\n",
       "      <th>file_name</th>\n",
       "      <th>url</th>\n",
       "    </tr>\n",
       "  </thead>\n",
       "  <tbody>\n",
       "    <tr>\n",
       "      <th>0</th>\n",
       "      <td>lion_cache_1.jpg</td>\n",
       "      <td>https://www.liontravel.com/Comm/2TRS/HotSale/p...</td>\n",
       "    </tr>\n",
       "    <tr>\n",
       "      <th>1</th>\n",
       "      <td>lion_cache_2.jpg</td>\n",
       "      <td>https://www.liontravel.com/Comm/2TRS/HotSale/p...</td>\n",
       "    </tr>\n",
       "    <tr>\n",
       "      <th>2</th>\n",
       "      <td>lion_cache_3.jpg</td>\n",
       "      <td>https://www.liontravel.com/Comm/2trs/hotsale/p...</td>\n",
       "    </tr>\n",
       "    <tr>\n",
       "      <th>3</th>\n",
       "      <td>lion_cache_4.jpg</td>\n",
       "      <td>https://www.liontravel.com/Comm/2TRS/HotSale/p...</td>\n",
       "    </tr>\n",
       "    <tr>\n",
       "      <th>4</th>\n",
       "      <td>lion_cache_5.jpg</td>\n",
       "      <td>https://www.liontravel.com/Comm/2TRS/HotSale/p...</td>\n",
       "    </tr>\n",
       "  </tbody>\n",
       "</table>\n",
       "</div>"
      ],
      "text/plain": [
       "          file_name                                                url\n",
       "0  lion_cache_1.jpg  https://www.liontravel.com/Comm/2TRS/HotSale/p...\n",
       "1  lion_cache_2.jpg  https://www.liontravel.com/Comm/2TRS/HotSale/p...\n",
       "2  lion_cache_3.jpg  https://www.liontravel.com/Comm/2trs/hotsale/p...\n",
       "3  lion_cache_4.jpg  https://www.liontravel.com/Comm/2TRS/HotSale/p...\n",
       "4  lion_cache_5.jpg  https://www.liontravel.com/Comm/2TRS/HotSale/p..."
      ]
     },
     "execution_count": 4,
     "metadata": {},
     "output_type": "execute_result"
    }
   ],
   "source": [
    "cache_map_data.head(5)"
   ]
  },
  {
   "cell_type": "code",
   "execution_count": 17,
   "metadata": {
    "ExecuteTime": {
     "end_time": "2018-12-05T13:01:14.881761Z",
     "start_time": "2018-12-05T13:01:14.863780Z"
    }
   },
   "outputs": [
    {
     "data": {
      "text/html": [
       "<div>\n",
       "<style scoped>\n",
       "    .dataframe tbody tr th:only-of-type {\n",
       "        vertical-align: middle;\n",
       "    }\n",
       "\n",
       "    .dataframe tbody tr th {\n",
       "        vertical-align: top;\n",
       "    }\n",
       "\n",
       "    .dataframe thead th {\n",
       "        text-align: right;\n",
       "    }\n",
       "</style>\n",
       "<table border=\"1\" class=\"dataframe\">\n",
       "  <thead>\n",
       "    <tr style=\"text-align: right;\">\n",
       "      <th></th>\n",
       "      <th>file_name</th>\n",
       "      <th>url</th>\n",
       "    </tr>\n",
       "  </thead>\n",
       "  <tbody>\n",
       "    <tr>\n",
       "      <th>count</th>\n",
       "      <td>321</td>\n",
       "      <td>321</td>\n",
       "    </tr>\n",
       "    <tr>\n",
       "      <th>unique</th>\n",
       "      <td>321</td>\n",
       "      <td>321</td>\n",
       "    </tr>\n",
       "    <tr>\n",
       "      <th>top</th>\n",
       "      <td>lion_cache_70.jpg</td>\n",
       "      <td>https://www.liontravel.com/Comm/2TRS/HotSale/p...</td>\n",
       "    </tr>\n",
       "    <tr>\n",
       "      <th>freq</th>\n",
       "      <td>1</td>\n",
       "      <td>1</td>\n",
       "    </tr>\n",
       "  </tbody>\n",
       "</table>\n",
       "</div>"
      ],
      "text/plain": [
       "                file_name                                                url\n",
       "count                 321                                                321\n",
       "unique                321                                                321\n",
       "top     lion_cache_70.jpg  https://www.liontravel.com/Comm/2TRS/HotSale/p...\n",
       "freq                    1                                                  1"
      ]
     },
     "execution_count": 17,
     "metadata": {},
     "output_type": "execute_result"
    }
   ],
   "source": [
    "cache_map_data.describe()"
   ]
  },
  {
   "cell_type": "code",
   "execution_count": 18,
   "metadata": {
    "ExecuteTime": {
     "end_time": "2018-12-05T13:01:24.955848Z",
     "start_time": "2018-12-05T13:01:24.949525Z"
    }
   },
   "outputs": [
    {
     "name": "stdout",
     "output_type": "stream",
     "text": [
      "<class 'pandas.core.frame.DataFrame'>\n",
      "RangeIndex: 321 entries, 0 to 320\n",
      "Data columns (total 2 columns):\n",
      "file_name    321 non-null object\n",
      "url          321 non-null object\n",
      "dtypes: object(2)\n",
      "memory usage: 5.1+ KB\n"
     ]
    }
   ],
   "source": [
    "cache_map_data.info()"
   ]
  },
  {
   "cell_type": "markdown",
   "metadata": {},
   "source": [
    "### group_data"
   ]
  },
  {
   "cell_type": "code",
   "execution_count": 5,
   "metadata": {
    "ExecuteTime": {
     "end_time": "2018-12-05T12:58:43.777171Z",
     "start_time": "2018-12-05T12:58:43.762357Z"
    }
   },
   "outputs": [
    {
     "data": {
      "text/html": [
       "<div>\n",
       "<style scoped>\n",
       "    .dataframe tbody tr th:only-of-type {\n",
       "        vertical-align: middle;\n",
       "    }\n",
       "\n",
       "    .dataframe tbody tr th {\n",
       "        vertical-align: top;\n",
       "    }\n",
       "\n",
       "    .dataframe thead th {\n",
       "        text-align: right;\n",
       "    }\n",
       "</style>\n",
       "<table border=\"1\" class=\"dataframe\">\n",
       "  <thead>\n",
       "    <tr style=\"text-align: right;\">\n",
       "      <th></th>\n",
       "      <th>group_id</th>\n",
       "      <th>sub_line</th>\n",
       "      <th>area</th>\n",
       "      <th>days</th>\n",
       "      <th>begin_date</th>\n",
       "      <th>price</th>\n",
       "      <th>product_name</th>\n",
       "      <th>promotion_prog</th>\n",
       "    </tr>\n",
       "  </thead>\n",
       "  <tbody>\n",
       "    <tr>\n",
       "      <th>0</th>\n",
       "      <td>63695</td>\n",
       "      <td>subline_value_1</td>\n",
       "      <td>area_value_1</td>\n",
       "      <td>12.0</td>\n",
       "      <td>22-Mar-17</td>\n",
       "      <td>106900.0</td>\n",
       "      <td>最高省8000》大美西～夏威夷、優勝美地、西峽天空步道、聖地牙哥、環球影城(哈利波特)12日</td>\n",
       "      <td>&amp;lt;B&amp;gt;[GG]《行銷活動》[//]&amp;lt;/B&amp;gt;&amp;lt;font face...</td>\n",
       "    </tr>\n",
       "    <tr>\n",
       "      <th>1</th>\n",
       "      <td>53481</td>\n",
       "      <td>subline_value_1</td>\n",
       "      <td>area_value_1</td>\n",
       "      <td>12.0</td>\n",
       "      <td>17-May-17</td>\n",
       "      <td>112900.0</td>\n",
       "      <td>《玩樂369》旗艦大美西12日～升等五星、優勝美地、西峽天空步道、卡利哥鬼鎮、環球影城大美西12日</td>\n",
       "      <td>&amp;lt;B&amp;gt;[GG]《行銷活動》[//]&amp;lt;/B&amp;gt;&amp;lt;font face...</td>\n",
       "    </tr>\n",
       "    <tr>\n",
       "      <th>2</th>\n",
       "      <td>54305</td>\n",
       "      <td>subline_value_1</td>\n",
       "      <td>area_value_1</td>\n",
       "      <td>12.0</td>\n",
       "      <td>21-Jun-17</td>\n",
       "      <td>115900.0</td>\n",
       "      <td>《玩樂369》旗艦大美西12日～升等五星、優勝美地、西峽天空步道、卡利哥鬼鎮、環球影城大美西12日</td>\n",
       "      <td>&amp;lt;B&amp;gt;[GG]《行銷活動》[//]&amp;lt;/B&amp;gt;&amp;lt;font face...</td>\n",
       "    </tr>\n",
       "    <tr>\n",
       "      <th>3</th>\n",
       "      <td>41766</td>\n",
       "      <td>subline_value_1</td>\n",
       "      <td>area_value_1</td>\n",
       "      <td>12.0</td>\n",
       "      <td>12-Jul-17</td>\n",
       "      <td>126900.0</td>\n",
       "      <td>《玩樂369》旗艦大美西12日～升等五星、優勝美地、西峽天空步道、卡利哥鬼鎮、環球影城大美西12日</td>\n",
       "      <td>&amp;lt;B&amp;gt;[GG]《行銷活動》[//]&amp;lt;/B&amp;gt;&amp;lt;font face...</td>\n",
       "    </tr>\n",
       "    <tr>\n",
       "      <th>4</th>\n",
       "      <td>32196</td>\n",
       "      <td>subline_value_1</td>\n",
       "      <td>area_value_1</td>\n",
       "      <td>12.0</td>\n",
       "      <td>9-Aug-17</td>\n",
       "      <td>126900.0</td>\n",
       "      <td>《玩樂369》旗艦大美西12日～升等五星、優勝美地、西峽天空步道、卡利哥鬼鎮、環球影城大美西12日</td>\n",
       "      <td>&amp;lt;B&amp;gt;[GG]《行銷活動》[//]&amp;lt;/B&amp;gt;&amp;lt;font face...</td>\n",
       "    </tr>\n",
       "  </tbody>\n",
       "</table>\n",
       "</div>"
      ],
      "text/plain": [
       "  group_id         sub_line          area  days begin_date     price  \\\n",
       "0    63695  subline_value_1  area_value_1  12.0  22-Mar-17  106900.0   \n",
       "1    53481  subline_value_1  area_value_1  12.0  17-May-17  112900.0   \n",
       "2    54305  subline_value_1  area_value_1  12.0  21-Jun-17  115900.0   \n",
       "3    41766  subline_value_1  area_value_1  12.0  12-Jul-17  126900.0   \n",
       "4    32196  subline_value_1  area_value_1  12.0   9-Aug-17  126900.0   \n",
       "\n",
       "                                        product_name  \\\n",
       "0     最高省8000》大美西～夏威夷、優勝美地、西峽天空步道、聖地牙哥、環球影城(哈利波特)12日   \n",
       "1  《玩樂369》旗艦大美西12日～升等五星、優勝美地、西峽天空步道、卡利哥鬼鎮、環球影城大美西12日   \n",
       "2  《玩樂369》旗艦大美西12日～升等五星、優勝美地、西峽天空步道、卡利哥鬼鎮、環球影城大美西12日   \n",
       "3  《玩樂369》旗艦大美西12日～升等五星、優勝美地、西峽天空步道、卡利哥鬼鎮、環球影城大美西12日   \n",
       "4  《玩樂369》旗艦大美西12日～升等五星、優勝美地、西峽天空步道、卡利哥鬼鎮、環球影城大美西12日   \n",
       "\n",
       "                                      promotion_prog  \n",
       "0  &lt;B&gt;[GG]《行銷活動》[//]&lt;/B&gt;&lt;font face...  \n",
       "1  &lt;B&gt;[GG]《行銷活動》[//]&lt;/B&gt;&lt;font face...  \n",
       "2  &lt;B&gt;[GG]《行銷活動》[//]&lt;/B&gt;&lt;font face...  \n",
       "3  &lt;B&gt;[GG]《行銷活動》[//]&lt;/B&gt;&lt;font face...  \n",
       "4  &lt;B&gt;[GG]《行銷活動》[//]&lt;/B&gt;&lt;font face...  "
      ]
     },
     "execution_count": 5,
     "metadata": {},
     "output_type": "execute_result"
    }
   ],
   "source": [
    "group_data.head(5)"
   ]
  },
  {
   "cell_type": "code",
   "execution_count": 19,
   "metadata": {
    "ExecuteTime": {
     "end_time": "2018-12-05T13:01:49.359730Z",
     "start_time": "2018-12-05T13:01:49.328355Z"
    }
   },
   "outputs": [
    {
     "data": {
      "text/html": [
       "<div>\n",
       "<style scoped>\n",
       "    .dataframe tbody tr th:only-of-type {\n",
       "        vertical-align: middle;\n",
       "    }\n",
       "\n",
       "    .dataframe tbody tr th {\n",
       "        vertical-align: top;\n",
       "    }\n",
       "\n",
       "    .dataframe thead th {\n",
       "        text-align: right;\n",
       "    }\n",
       "</style>\n",
       "<table border=\"1\" class=\"dataframe\">\n",
       "  <thead>\n",
       "    <tr style=\"text-align: right;\">\n",
       "      <th></th>\n",
       "      <th>days</th>\n",
       "      <th>price</th>\n",
       "    </tr>\n",
       "  </thead>\n",
       "  <tbody>\n",
       "    <tr>\n",
       "      <th>count</th>\n",
       "      <td>49223.000000</td>\n",
       "      <td>49223.000000</td>\n",
       "    </tr>\n",
       "    <tr>\n",
       "      <th>mean</th>\n",
       "      <td>6.245962</td>\n",
       "      <td>34705.866871</td>\n",
       "    </tr>\n",
       "    <tr>\n",
       "      <th>std</th>\n",
       "      <td>2.024880</td>\n",
       "      <td>20509.189141</td>\n",
       "    </tr>\n",
       "    <tr>\n",
       "      <th>min</th>\n",
       "      <td>2.000000</td>\n",
       "      <td>3000.000000</td>\n",
       "    </tr>\n",
       "    <tr>\n",
       "      <th>25%</th>\n",
       "      <td>5.000000</td>\n",
       "      <td>20900.000000</td>\n",
       "    </tr>\n",
       "    <tr>\n",
       "      <th>50%</th>\n",
       "      <td>5.000000</td>\n",
       "      <td>29900.000000</td>\n",
       "    </tr>\n",
       "    <tr>\n",
       "      <th>75%</th>\n",
       "      <td>8.000000</td>\n",
       "      <td>39900.000000</td>\n",
       "    </tr>\n",
       "    <tr>\n",
       "      <th>max</th>\n",
       "      <td>17.000000</td>\n",
       "      <td>222900.000000</td>\n",
       "    </tr>\n",
       "  </tbody>\n",
       "</table>\n",
       "</div>"
      ],
      "text/plain": [
       "               days          price\n",
       "count  49223.000000   49223.000000\n",
       "mean       6.245962   34705.866871\n",
       "std        2.024880   20509.189141\n",
       "min        2.000000    3000.000000\n",
       "25%        5.000000   20900.000000\n",
       "50%        5.000000   29900.000000\n",
       "75%        8.000000   39900.000000\n",
       "max       17.000000  222900.000000"
      ]
     },
     "execution_count": 19,
     "metadata": {},
     "output_type": "execute_result"
    }
   ],
   "source": [
    "group_data.describe()"
   ]
  },
  {
   "cell_type": "code",
   "execution_count": 6,
   "metadata": {
    "ExecuteTime": {
     "end_time": "2018-12-05T12:58:44.305363Z",
     "start_time": "2018-12-05T12:58:44.293779Z"
    }
   },
   "outputs": [
    {
     "data": {
      "text/html": [
       "<div>\n",
       "<style scoped>\n",
       "    .dataframe tbody tr th:only-of-type {\n",
       "        vertical-align: middle;\n",
       "    }\n",
       "\n",
       "    .dataframe tbody tr th {\n",
       "        vertical-align: top;\n",
       "    }\n",
       "\n",
       "    .dataframe thead th {\n",
       "        text-align: right;\n",
       "    }\n",
       "</style>\n",
       "<table border=\"1\" class=\"dataframe\">\n",
       "  <thead>\n",
       "    <tr style=\"text-align: right;\">\n",
       "      <th></th>\n",
       "      <th>order_id</th>\n",
       "      <th>group_id</th>\n",
       "      <th>order_date</th>\n",
       "      <th>source_1</th>\n",
       "      <th>source_2</th>\n",
       "      <th>unit</th>\n",
       "      <th>people_amount</th>\n",
       "    </tr>\n",
       "  </thead>\n",
       "  <tbody>\n",
       "    <tr>\n",
       "      <th>0</th>\n",
       "      <td>136100</td>\n",
       "      <td>63695</td>\n",
       "      <td>5-Jan-17</td>\n",
       "      <td>src1_value_1</td>\n",
       "      <td>src2_value_1</td>\n",
       "      <td>unit_value_1</td>\n",
       "      <td>2</td>\n",
       "    </tr>\n",
       "    <tr>\n",
       "      <th>1</th>\n",
       "      <td>140370</td>\n",
       "      <td>63695</td>\n",
       "      <td>9-Nov-16</td>\n",
       "      <td>src1_value_1</td>\n",
       "      <td>src2_value_1</td>\n",
       "      <td>unit_value_2</td>\n",
       "      <td>1</td>\n",
       "    </tr>\n",
       "    <tr>\n",
       "      <th>2</th>\n",
       "      <td>211009</td>\n",
       "      <td>63695</td>\n",
       "      <td>20-Jan-17</td>\n",
       "      <td>src1_value_1</td>\n",
       "      <td>src2_value_1</td>\n",
       "      <td>unit_value_3</td>\n",
       "      <td>2</td>\n",
       "    </tr>\n",
       "    <tr>\n",
       "      <th>3</th>\n",
       "      <td>41571</td>\n",
       "      <td>53481</td>\n",
       "      <td>14-Mar-17</td>\n",
       "      <td>src1_value_1</td>\n",
       "      <td>src2_value_1</td>\n",
       "      <td>unit_value_4</td>\n",
       "      <td>4</td>\n",
       "    </tr>\n",
       "    <tr>\n",
       "      <th>4</th>\n",
       "      <td>64125</td>\n",
       "      <td>53481</td>\n",
       "      <td>27-Mar-17</td>\n",
       "      <td>src1_value_2</td>\n",
       "      <td>src2_value_1</td>\n",
       "      <td>unit_value_5</td>\n",
       "      <td>1</td>\n",
       "    </tr>\n",
       "  </tbody>\n",
       "</table>\n",
       "</div>"
      ],
      "text/plain": [
       "  order_id group_id order_date      source_1      source_2          unit  \\\n",
       "0   136100    63695   5-Jan-17  src1_value_1  src2_value_1  unit_value_1   \n",
       "1   140370    63695   9-Nov-16  src1_value_1  src2_value_1  unit_value_2   \n",
       "2   211009    63695  20-Jan-17  src1_value_1  src2_value_1  unit_value_3   \n",
       "3    41571    53481  14-Mar-17  src1_value_1  src2_value_1  unit_value_4   \n",
       "4    64125    53481  27-Mar-17  src1_value_2  src2_value_1  unit_value_5   \n",
       "\n",
       "   people_amount  \n",
       "0              2  \n",
       "1              1  \n",
       "2              2  \n",
       "3              4  \n",
       "4              1  "
      ]
     },
     "execution_count": 6,
     "metadata": {},
     "output_type": "execute_result"
    }
   ],
   "source": [
    "order_data.head(5)"
   ]
  },
  {
   "cell_type": "code",
   "execution_count": 20,
   "metadata": {
    "ExecuteTime": {
     "end_time": "2018-12-05T13:01:56.216894Z",
     "start_time": "2018-12-05T13:01:56.190816Z"
    }
   },
   "outputs": [
    {
     "name": "stdout",
     "output_type": "stream",
     "text": [
      "<class 'pandas.core.frame.DataFrame'>\n",
      "RangeIndex: 49223 entries, 0 to 49222\n",
      "Data columns (total 8 columns):\n",
      "group_id          49223 non-null object\n",
      "sub_line          49223 non-null object\n",
      "area              49223 non-null object\n",
      "days              49223 non-null float64\n",
      "begin_date        49223 non-null object\n",
      "price             49223 non-null float64\n",
      "product_name      49218 non-null object\n",
      "promotion_prog    49167 non-null object\n",
      "dtypes: float64(2), object(6)\n",
      "memory usage: 3.0+ MB\n"
     ]
    }
   ],
   "source": [
    "group_data.info()"
   ]
  },
  {
   "cell_type": "markdown",
   "metadata": {},
   "source": [
    "### train_data"
   ]
  },
  {
   "cell_type": "code",
   "execution_count": 7,
   "metadata": {
    "ExecuteTime": {
     "end_time": "2018-12-05T12:58:44.930912Z",
     "start_time": "2018-12-05T12:58:44.923133Z"
    }
   },
   "outputs": [
    {
     "data": {
      "text/html": [
       "<div>\n",
       "<style scoped>\n",
       "    .dataframe tbody tr th:only-of-type {\n",
       "        vertical-align: middle;\n",
       "    }\n",
       "\n",
       "    .dataframe tbody tr th {\n",
       "        vertical-align: top;\n",
       "    }\n",
       "\n",
       "    .dataframe thead th {\n",
       "        text-align: right;\n",
       "    }\n",
       "</style>\n",
       "<table border=\"1\" class=\"dataframe\">\n",
       "  <thead>\n",
       "    <tr style=\"text-align: right;\">\n",
       "      <th></th>\n",
       "      <th>order_id</th>\n",
       "      <th>deal_or_not</th>\n",
       "    </tr>\n",
       "  </thead>\n",
       "  <tbody>\n",
       "    <tr>\n",
       "      <th>0</th>\n",
       "      <td>136100</td>\n",
       "      <td>0</td>\n",
       "    </tr>\n",
       "    <tr>\n",
       "      <th>1</th>\n",
       "      <td>140370</td>\n",
       "      <td>0</td>\n",
       "    </tr>\n",
       "    <tr>\n",
       "      <th>2</th>\n",
       "      <td>211009</td>\n",
       "      <td>0</td>\n",
       "    </tr>\n",
       "    <tr>\n",
       "      <th>3</th>\n",
       "      <td>41571</td>\n",
       "      <td>1</td>\n",
       "    </tr>\n",
       "    <tr>\n",
       "      <th>4</th>\n",
       "      <td>64125</td>\n",
       "      <td>1</td>\n",
       "    </tr>\n",
       "  </tbody>\n",
       "</table>\n",
       "</div>"
      ],
      "text/plain": [
       "   order_id  deal_or_not\n",
       "0    136100            0\n",
       "1    140370            0\n",
       "2    211009            0\n",
       "3     41571            1\n",
       "4     64125            1"
      ]
     },
     "execution_count": 7,
     "metadata": {},
     "output_type": "execute_result"
    }
   ],
   "source": [
    "train_data.head(5)"
   ]
  },
  {
   "cell_type": "code",
   "execution_count": 21,
   "metadata": {
    "ExecuteTime": {
     "end_time": "2018-12-05T13:02:15.492447Z",
     "start_time": "2018-12-05T13:02:15.433931Z"
    }
   },
   "outputs": [
    {
     "data": {
      "text/html": [
       "<div>\n",
       "<style scoped>\n",
       "    .dataframe tbody tr th:only-of-type {\n",
       "        vertical-align: middle;\n",
       "    }\n",
       "\n",
       "    .dataframe tbody tr th {\n",
       "        vertical-align: top;\n",
       "    }\n",
       "\n",
       "    .dataframe thead th {\n",
       "        text-align: right;\n",
       "    }\n",
       "</style>\n",
       "<table border=\"1\" class=\"dataframe\">\n",
       "  <thead>\n",
       "    <tr style=\"text-align: right;\">\n",
       "      <th></th>\n",
       "      <th>order_id</th>\n",
       "      <th>deal_or_not</th>\n",
       "    </tr>\n",
       "  </thead>\n",
       "  <tbody>\n",
       "    <tr>\n",
       "      <th>count</th>\n",
       "      <td>297020.000000</td>\n",
       "      <td>297020.000000</td>\n",
       "    </tr>\n",
       "    <tr>\n",
       "      <th>mean</th>\n",
       "      <td>156583.192866</td>\n",
       "      <td>0.197253</td>\n",
       "    </tr>\n",
       "    <tr>\n",
       "      <th>std</th>\n",
       "      <td>95659.738870</td>\n",
       "      <td>0.397925</td>\n",
       "    </tr>\n",
       "    <tr>\n",
       "      <th>min</th>\n",
       "      <td>1.000000</td>\n",
       "      <td>0.000000</td>\n",
       "    </tr>\n",
       "    <tr>\n",
       "      <th>25%</th>\n",
       "      <td>75101.750000</td>\n",
       "      <td>0.000000</td>\n",
       "    </tr>\n",
       "    <tr>\n",
       "      <th>50%</th>\n",
       "      <td>150249.500000</td>\n",
       "      <td>0.000000</td>\n",
       "    </tr>\n",
       "    <tr>\n",
       "      <th>75%</th>\n",
       "      <td>234075.250000</td>\n",
       "      <td>0.000000</td>\n",
       "    </tr>\n",
       "    <tr>\n",
       "      <th>max</th>\n",
       "      <td>340111.000000</td>\n",
       "      <td>1.000000</td>\n",
       "    </tr>\n",
       "  </tbody>\n",
       "</table>\n",
       "</div>"
      ],
      "text/plain": [
       "            order_id    deal_or_not\n",
       "count  297020.000000  297020.000000\n",
       "mean   156583.192866       0.197253\n",
       "std     95659.738870       0.397925\n",
       "min         1.000000       0.000000\n",
       "25%     75101.750000       0.000000\n",
       "50%    150249.500000       0.000000\n",
       "75%    234075.250000       0.000000\n",
       "max    340111.000000       1.000000"
      ]
     },
     "execution_count": 21,
     "metadata": {},
     "output_type": "execute_result"
    }
   ],
   "source": [
    "train_data.describe()"
   ]
  },
  {
   "cell_type": "code",
   "execution_count": 23,
   "metadata": {
    "ExecuteTime": {
     "end_time": "2018-12-05T13:02:39.494214Z",
     "start_time": "2018-12-05T13:02:39.470817Z"
    },
    "scrolled": true
   },
   "outputs": [
    {
     "name": "stdout",
     "output_type": "stream",
     "text": [
      "<class 'pandas.core.frame.DataFrame'>\n",
      "RangeIndex: 297020 entries, 0 to 297019\n",
      "Data columns (total 2 columns):\n",
      "order_id       297020 non-null int64\n",
      "deal_or_not    297020 non-null int64\n",
      "dtypes: int64(2)\n",
      "memory usage: 4.5 MB\n"
     ]
    }
   ],
   "source": [
    "train_data.info()"
   ]
  },
  {
   "cell_type": "markdown",
   "metadata": {},
   "source": [
    "### test_data"
   ]
  },
  {
   "cell_type": "code",
   "execution_count": 26,
   "metadata": {
    "ExecuteTime": {
     "end_time": "2018-12-05T13:04:20.099904Z",
     "start_time": "2018-12-05T13:04:20.091123Z"
    },
    "scrolled": true
   },
   "outputs": [
    {
     "data": {
      "text/html": [
       "<div>\n",
       "<style scoped>\n",
       "    .dataframe tbody tr th:only-of-type {\n",
       "        vertical-align: middle;\n",
       "    }\n",
       "\n",
       "    .dataframe tbody tr th {\n",
       "        vertical-align: top;\n",
       "    }\n",
       "\n",
       "    .dataframe thead th {\n",
       "        text-align: right;\n",
       "    }\n",
       "</style>\n",
       "<table border=\"1\" class=\"dataframe\">\n",
       "  <thead>\n",
       "    <tr style=\"text-align: right;\">\n",
       "      <th></th>\n",
       "      <th>order_id</th>\n",
       "      <th>deal_or_not</th>\n",
       "    </tr>\n",
       "  </thead>\n",
       "  <tbody>\n",
       "    <tr>\n",
       "      <th>0</th>\n",
       "      <td>3240332c374b21f9882f899f13b71308</td>\n",
       "      <td>NaN</td>\n",
       "    </tr>\n",
       "    <tr>\n",
       "      <th>1</th>\n",
       "      <td>bf0c0a570b848499180b9dbd49a12d76</td>\n",
       "      <td>NaN</td>\n",
       "    </tr>\n",
       "    <tr>\n",
       "      <th>2</th>\n",
       "      <td>0db30b8d4770f5145d932133e54a35a1</td>\n",
       "      <td>NaN</td>\n",
       "    </tr>\n",
       "    <tr>\n",
       "      <th>3</th>\n",
       "      <td>d3eaffe7c163fabadd8bff4aa28ee1c1</td>\n",
       "      <td>NaN</td>\n",
       "    </tr>\n",
       "    <tr>\n",
       "      <th>4</th>\n",
       "      <td>fefb2b6d55df4474e4826ddac2a97465</td>\n",
       "      <td>NaN</td>\n",
       "    </tr>\n",
       "  </tbody>\n",
       "</table>\n",
       "</div>"
      ],
      "text/plain": [
       "                           order_id   deal_or_not\n",
       "0  3240332c374b21f9882f899f13b71308           NaN\n",
       "1  bf0c0a570b848499180b9dbd49a12d76           NaN\n",
       "2  0db30b8d4770f5145d932133e54a35a1           NaN\n",
       "3  d3eaffe7c163fabadd8bff4aa28ee1c1           NaN\n",
       "4  fefb2b6d55df4474e4826ddac2a97465           NaN"
      ]
     },
     "execution_count": 26,
     "metadata": {},
     "output_type": "execute_result"
    }
   ],
   "source": [
    "test_data.head(5)"
   ]
  },
  {
   "cell_type": "code",
   "execution_count": 28,
   "metadata": {
    "ExecuteTime": {
     "end_time": "2018-12-05T13:04:44.868290Z",
     "start_time": "2018-12-05T13:04:44.762836Z"
    }
   },
   "outputs": [
    {
     "data": {
      "text/plain": [
       "count                                99895\n",
       "unique                               99895\n",
       "top       351e5f5595ed30361f14396e0c67de84\n",
       "freq                                     1\n",
       "Name: order_id, dtype: object"
      ]
     },
     "execution_count": 28,
     "metadata": {},
     "output_type": "execute_result"
    }
   ],
   "source": [
    "test_data['order_id'].describe()"
   ]
  },
  {
   "cell_type": "code",
   "execution_count": 25,
   "metadata": {
    "ExecuteTime": {
     "end_time": "2018-12-05T13:03:24.250252Z",
     "start_time": "2018-12-05T13:03:24.232665Z"
    }
   },
   "outputs": [
    {
     "name": "stdout",
     "output_type": "stream",
     "text": [
      "<class 'pandas.core.frame.DataFrame'>\n",
      "RangeIndex: 99895 entries, 0 to 99894\n",
      "Data columns (total 2 columns):\n",
      "order_id        99895 non-null object\n",
      " deal_or_not    0 non-null float64\n",
      "dtypes: float64(1), object(1)\n",
      "memory usage: 1.5+ MB\n"
     ]
    }
   ],
   "source": [
    "test_data.info()"
   ]
  },
  {
   "cell_type": "markdown",
   "metadata": {},
   "source": [
    "### Have a look of order_id (make sure we can have each order detail even there are two patterns of order_id"
   ]
  },
  {
   "cell_type": "code",
   "execution_count": 9,
   "metadata": {
    "ExecuteTime": {
     "end_time": "2018-12-05T12:58:54.350698Z",
     "start_time": "2018-12-05T12:58:53.971331Z"
    }
   },
   "outputs": [
    {
     "data": {
      "text/plain": [
       "(array([9.00000e+00, 0.00000e+00, 9.00000e+01, 0.00000e+00, 8.90000e+02,\n",
       "        0.00000e+00, 8.90000e+03, 0.00000e+00, 8.89760e+04, 1.98155e+05]),\n",
       " array([1. , 1.5, 2. , 2.5, 3. , 3.5, 4. , 4.5, 5. , 5.5, 6. ]),\n",
       " <a list of 10 Patch objects>)"
      ]
     },
     "execution_count": 9,
     "metadata": {},
     "output_type": "execute_result"
    },
    {
     "data": {
      "image/png": "[encoded data removed]",
      "text/plain": [
       "<Figure size 432x288 with 1 Axes>"
      ]
     },
     "metadata": {
      "needs_background": "light"
     },
     "output_type": "display_data"
    }
   ],
   "source": [
    "plt.hist(train_data.order_id.map(lambda x: len(str(x))))"
   ]
  },
  {
   "cell_type": "code",
   "execution_count": 10,
   "metadata": {
    "ExecuteTime": {
     "end_time": "2018-12-05T12:58:54.807899Z",
     "start_time": "2018-12-05T12:58:54.435715Z"
    }
   },
   "outputs": [
    {
     "data": {
      "text/plain": [
       "(array([  9889., 287131.,      0.,      0.,      0.,      0.,      0.,\n",
       "             0.,      0.,  99895.]),\n",
       " array([ 1. ,  4.1,  7.2, 10.3, 13.4, 16.5, 19.6, 22.7, 25.8, 28.9, 32. ]),\n",
       " <a list of 10 Patch objects>)"
      ]
     },
     "execution_count": 10,
     "metadata": {},
     "output_type": "execute_result"
    },
    {
     "data": {
      "image/png": "[encoded data removed]",
      "text/plain": [
       "<Figure size 432x288 with 1 Axes>"
      ]
     },
     "metadata": {
      "needs_background": "light"
     },
     "output_type": "display_data"
    }
   ],
   "source": [
    "plt.hist(order_data.order_id.map(lambda x: len(str(x))))"
   ]
  },
  {
   "cell_type": "code",
   "execution_count": 11,
   "metadata": {
    "ExecuteTime": {
     "end_time": "2018-12-05T12:58:55.285077Z",
     "start_time": "2018-12-05T12:58:55.237349Z"
    }
   },
   "outputs": [
    {
     "data": {
      "text/html": [
       "<div>\n",
       "<style scoped>\n",
       "    .dataframe tbody tr th:only-of-type {\n",
       "        vertical-align: middle;\n",
       "    }\n",
       "\n",
       "    .dataframe tbody tr th {\n",
       "        vertical-align: top;\n",
       "    }\n",
       "\n",
       "    .dataframe thead th {\n",
       "        text-align: right;\n",
       "    }\n",
       "</style>\n",
       "<table border=\"1\" class=\"dataframe\">\n",
       "  <thead>\n",
       "    <tr style=\"text-align: right;\">\n",
       "      <th></th>\n",
       "      <th>order_id</th>\n",
       "      <th>group_id</th>\n",
       "      <th>order_date</th>\n",
       "      <th>source_1</th>\n",
       "      <th>source_2</th>\n",
       "      <th>unit</th>\n",
       "      <th>people_amount</th>\n",
       "    </tr>\n",
       "  </thead>\n",
       "  <tbody>\n",
       "    <tr>\n",
       "      <th>297020</th>\n",
       "      <td>3240332c374b21f9882f899f13b71308</td>\n",
       "      <td>6a073b14b4dd47028140bbc6b5100c55</td>\n",
       "      <td>17-Nov-17</td>\n",
       "      <td>src1_value_1</td>\n",
       "      <td>src2_value_1</td>\n",
       "      <td>unit_value_8</td>\n",
       "      <td>4</td>\n",
       "    </tr>\n",
       "  </tbody>\n",
       "</table>\n",
       "</div>"
      ],
      "text/plain": [
       "                                order_id                          group_id  \\\n",
       "297020  3240332c374b21f9882f899f13b71308  6a073b14b4dd47028140bbc6b5100c55   \n",
       "\n",
       "       order_date      source_1      source_2          unit  people_amount  \n",
       "297020  17-Nov-17  src1_value_1  src2_value_1  unit_value_8              4  "
      ]
     },
     "execution_count": 11,
     "metadata": {},
     "output_type": "execute_result"
    }
   ],
   "source": [
    "order_data[order_data.order_id == '3240332c374b21f9882f899f13b71308']"
   ]
  }
 ],
 "metadata": {
  "kernelspec": {
   "display_name": "Python [default]",
   "language": "python",
   "name": "python3"
  },
  "language_info": {
   "codemirror_mode": {
    "name": "ipython",
    "version": 3
   },
   "file_extension": ".py",
   "mimetype": "text/x-python",
   "name": "python",
   "nbconvert_exporter": "python",
   "pygments_lexer": "ipython3",
   "version": "3.6.3"
  },
  "toc": {
   "base_numbering": 1,
   "nav_menu": {},
   "number_sections": true,
   "sideBar": true,
   "skip_h1_title": false,
   "title_cell": "Table of Contents",
   "title_sidebar": "Contents",
   "toc_cell": false,
   "toc_position": {},
   "toc_section_display": true,
   "toc_window_display": true
  },
  "varInspector": {
   "cols": {
    "lenName": 16,
    "lenType": 16,
    "lenVar": 40
   },
   "kernels_config": {
    "python": {
     "delete_cmd_postfix": "",
     "delete_cmd_prefix": "del ",
     "library": "var_list.py",
     "varRefreshCmd": "print(var_dic_list())"
    },
    "r": {
     "delete_cmd_postfix": ") ",
     "delete_cmd_prefix": "rm(",
     "library": "var_list.r",
     "varRefreshCmd": "cat(var_dic_list()) "
    }
   },
   "types_to_exclude": [
    "module",
    "function",
    "builtin_function_or_method",
    "instance",
    "_Feature"
   ],
   "window_display": false
  }
 },
 "nbformat": 4,
 "nbformat_minor": 2
}
